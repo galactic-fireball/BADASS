{
 "cells": [
  {
   "cell_type": "markdown",
   "metadata": {},
   "source": [
    "## Bayesian AGN Decomposition Analysis for SDSS Spectra (BADASS)\n",
    "### Multi Spectrum Fitting with Options File\n",
    "\n",
    "####  Remington O. Sexton$^{1,2}$, Sara M. Doan$^{1}$, Michael A. Reefe$^{1}$, William Matzko$^{1}$\n",
    "$^{1}$George Mason University, $^{2}$United States Naval Observatory\n"
   ]
  },
  {
   "cell_type": "code",
   "execution_count": null,
   "metadata": {},
   "outputs": [],
   "source": [
    "import glob\n",
    "import time\n",
    "import natsort\n",
    "from IPython.display import clear_output\n",
    "import multiprocessing as mp\n",
    "import os\n",
    "import psutil\n",
    "import pathlib\n",
    "import shutil\n",
    "# Import BADASS here\n",
    "import badass as badass \n",
    "import badass_utils as badass_utils\n",
    "\n",
    "from IPython.display import display, HTML\n",
    "display(HTML(\"<style>.container { width:90% !important; }</style>\"))"
   ]
  },
  {
   "cell_type": "markdown",
   "metadata": {},
   "source": [
    "### BADASS Options"
   ]
  },
  {
   "cell_type": "code",
   "execution_count": null,
   "metadata": {},
   "outputs": [],
   "source": [
    "# A .py file containing options\n",
    "options_file = \"BADASS_options.py\"\n",
    "if os.path.exists(options_file): print(\"\\n Options file found!\")"
   ]
  },
  {
   "cell_type": "markdown",
   "metadata": {},
   "source": [
    "### Run BADASS using `multiprocess.pool` to fit $N$ spectra simultaenously\n",
    "\n",
    "The following is shows how to fit multiple SDSS spectra simultaneously using `multiprocess.pool()`.  The number of spectra $N$ you can fit simultaneously ultimately depends on the number of CPU cores and RAM available on your system."
   ]
  },
  {
   "cell_type": "markdown",
   "metadata": {},
   "source": [
    "#### Directory Structure"
   ]
  },
  {
   "cell_type": "code",
   "execution_count": null,
   "metadata": {},
   "outputs": [],
   "source": [
    "########################## Directory Structure #################################\n",
    "# spec_dir = 'examples/' # folder with spectra in it\n",
    "spec_dir = 'examples/' # folder with spectra in it"
   ]
  },
  {
   "cell_type": "markdown",
   "metadata": {},
   "source": [
    "#### Multiprocessing "
   ]
  },
  {
   "cell_type": "code",
   "execution_count": null,
   "metadata": {},
   "outputs": [],
   "source": [
    "# Get number of cpus; \n",
    "# nprocesses should not exceed ncpu\n",
    "ncpu = mp.cpu_count() \n",
    "print(' Number of CPUs available = %d' % (ncpu) )\n",
    "# nprocesses is the number of spectra we want to fit simultaneously\n",
    "# you should limit this to ncpu; below we choose half the number of \n",
    "# cpus available \n",
    "nprocesses = 4\n",
    "print(' Number of BADASS processes = %d' % nprocesses)\n",
    "\n"
   ]
  },
  {
   "cell_type": "code",
   "execution_count": null,
   "metadata": {},
   "outputs": [],
   "source": [
    "spec_folders = natsort.natsorted(glob.glob(spec_dir+\"/*-test\"))#[nobj[0]:nobj[1]]\n",
    "print(len(spec_folders))\n",
    "# badass_utils.fetch_IRSA_dust(spec_folders)\n",
    "# only fit the first four\n",
    "nobj = (0,4)"
   ]
  },
  {
   "cell_type": "markdown",
   "metadata": {},
   "source": [
    "#### Run"
   ]
  },
  {
   "cell_type": "code",
   "execution_count": null,
   "metadata": {
    "scrolled": true
   },
   "outputs": [],
   "source": [
    "if __name__ == '__main__':\n",
    "    badass.run_BADASS(\n",
    "        spec_dir,\n",
    "        nobj             = nobj,\n",
    "        nprocesses       = nprocesses,\n",
    "        options_file     = options_file,\n",
    "        sdss_spec        = True,\n",
    "        )\n",
    "    "
   ]
  },
  {
   "cell_type": "code",
   "execution_count": null,
   "metadata": {},
   "outputs": [],
   "source": []
  }
 ],
 "metadata": {
  "kernelspec": {
   "display_name": "Python 3 (ipykernel)",
   "language": "python",
   "name": "python3"
  },
  "language_info": {
   "codemirror_mode": {
    "name": "ipython",
    "version": 3
   },
   "file_extension": ".py",
   "mimetype": "text/x-python",
   "name": "python",
   "nbconvert_exporter": "python",
   "pygments_lexer": "ipython3",
   "version": "3.8.15"
  }
 },
 "nbformat": 4,
 "nbformat_minor": 4
}
