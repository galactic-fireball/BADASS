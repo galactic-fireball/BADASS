{
 "cells": [
  {
   "cell_type": "markdown",
   "metadata": {},
   "source": [
    "## Bayesian AGN Decomposition Analysis for SDSS Spectra (BADASS)\n",
    "### Single Spectrum\n",
    "\n",
    "####  Remington O. Sexton$^{1,2}$, Sara M. Doan$^{1}$, Michael A. Reefe$^{1}$, William Matzko$^{1}$\n",
    "$^{1}$George Mason University, $^{2}$United States Naval Observatory\n"
   ]
  },
  {
   "cell_type": "code",
   "execution_count": 1,
   "metadata": {},
   "outputs": [
    {
     "data": {
      "text/html": [
       "<style>.container { width:90% !important; }</style>"
      ],
      "text/plain": [
       "<IPython.core.display.HTML object>"
      ]
     },
     "metadata": {},
     "output_type": "display_data"
    }
   ],
   "source": [
    "import glob\n",
    "import time\n",
    "import natsort\n",
    "from IPython.display import clear_output\n",
    "# import multiprocess as mp\n",
    "import os\n",
    "import psutil\n",
    "import pathlib\n",
    "import natsort\n",
    "# Import BADASS here\n",
    "import badass as badass\n",
    "import badass_utils as badass_utils\n",
    "import badass_ncomp_options\n",
    "\n",
    "from IPython.display import display, HTML\n",
    "display(HTML(\"<style>.container { width:90% !important; }</style>\"))"
   ]
  },
  {
   "cell_type": "markdown",
   "metadata": {},
   "source": [
    "### BADASS Options"
   ]
  },
  {
   "cell_type": "code",
   "execution_count": 2,
   "metadata": {},
   "outputs": [
    {
     "name": "stdout",
     "output_type": "stream",
     "text": [
      "\n",
      " Options file badass_ncomp_options.py found.\n",
      "\n"
     ]
    }
   ],
   "source": [
    "options_file = \"badass_ncomp_options.py\"\n",
    "if os.path.exists(options_file):\n",
    "    print(\"\\n Options file %s found.\\n\" % (options_file))"
   ]
  },
  {
   "cell_type": "markdown",
   "metadata": {},
   "source": [
    "### Run BADASS on a single spectrum\n",
    "\n",
    "The following is shows how to fit single SDSS spectra."
   ]
  },
  {
   "cell_type": "markdown",
   "metadata": {},
   "source": [
    "#### Directory Structure"
   ]
  },
  {
   "cell_type": "code",
   "execution_count": 19,
   "metadata": {},
   "outputs": [
    {
     "name": "stdout",
     "output_type": "stream",
     "text": [
      "15\n",
      "examples/2-test\n"
     ]
    }
   ],
   "source": [
    "nobj = 2 # Object in the spec_dir list\n",
    "########################## Directory Structure #################################\n",
    "spec_dir = 'examples/' # folder with spectra in it\n",
    "# Get full list of spectrum folders; these will be the working directories\n",
    "spec_loc = natsort.natsorted( glob.glob(spec_dir+'*') )[nobj]\n",
    "\n",
    "################################################################################\n",
    "print(len(spec_loc))\n",
    "print(spec_loc)\n"
   ]
  },
  {
   "cell_type": "markdown",
   "metadata": {},
   "source": [
    "#### Choose Spectrum "
   ]
  },
  {
   "cell_type": "code",
   "execution_count": 20,
   "metadata": {},
   "outputs": [
    {
     "name": "stdout",
     "output_type": "stream",
     "text": [
      "examples/2-test/spec-2756-54508-0579.fits\n"
     ]
    }
   ],
   "source": [
    "file = glob.glob(spec_loc+'/*.fits')[0] # Get name of FITS spectra file\n",
    "print(file)"
   ]
  },
  {
   "cell_type": "markdown",
   "metadata": {},
   "source": [
    "#### Run IRSA Dust Query\n",
    "To correct for Galactic extinction.  This only needs to be done once so that the data is stored locally."
   ]
  },
  {
   "cell_type": "code",
   "execution_count": 21,
   "metadata": {},
   "outputs": [],
   "source": [
    "# badass_utils.fetch_IRSA_dust(spec_loc)"
   ]
  },
  {
   "cell_type": "markdown",
   "metadata": {},
   "source": [
    "#### Run "
   ]
  },
  {
   "cell_type": "code",
   "execution_count": null,
   "metadata": {
    "scrolled": false
   },
   "outputs": [
    {
     "name": "stdout",
     "output_type": "stream",
     "text": [
      "Start process memory: 0.71659110                    \n",
      " Storing MCMC_output in examples/2-test/MCMC_output_23/\n",
      "\n",
      " > Starting fit for 2-test\n",
      "\n",
      " Input fitting region exceeds available wavelength range.  BADASS will adjust your fitting range automatically...\n",
      "\t\t- Input fitting range: (4400, 5500)\n",
      "\t\t- Available wavelength range: (2218, 5354)\n",
      "\t\t- New fitting region is (4400, 5355). \n",
      "\n",
      "\n",
      "\n",
      "-----------------------------------------------------------\n",
      " file:                        spec-2756-54508-0579.fits     \n",
      " SDSS redshift:               0.71967                       \n",
      " fitting region:              (4400,5355) [A]               \n",
      " velocity scale:              69.15 [km/s/pixel]            \n",
      " Galactic E(B-V):             0.032                         \n",
      " Flux Normalization:          1.0e-17                       \n",
      "-----------------------------------------------------------\n",
      "\t - Adding parameter for unexplained noise to fit reduced Chi-squared.\n",
      "\t - Fitting a SSP host-galaxy template.\n",
      "  - Fitting additive legendre polynomial component.\n",
      "\t - Fitting Simple AGN power-law continuum.\n",
      "\t - Fitting broad and narrow optical FeII using Veron-Cetty et al. (2004) optical FeII templates\n",
      "\t \t\t* varying optical FeII amplitudes\n",
      "\t \t\t* varying optical FeII dispersion.\n",
      "\t \t\t* varying optical FeII voff\n",
      "\n",
      " - ('BR_MGII_2799_DISP', 'NA_MGII_2799_DISP') soft constraint removed because one or more free parameters is not available.\n",
      "\n",
      " - ('OUT_NII_6585_DISP', 'NA_NII_6585_DISP') soft constraint removed because one or more free parameters is not available.\n",
      "\n",
      " Performing line testing for [['BR_H_BETA']]\n",
      "----------------------------------------------------------------------------------------------------\n",
      "0 ['BR_H_BETA'] 3\n",
      "\n",
      " Performing test of NCOMP 0 versus NCOMP 1 for ['BR_H_BETA']...\n",
      "\n",
      "\t Fitting NCOMP 0\n",
      "\t Fitting NCOMP 1\n",
      "\n",
      " Performing test of NCOMP 1 versus NCOMP 2 for ['BR_H_BETA']...\n",
      "\n",
      "\t Fitting NCOMP 2\n",
      "\n",
      " Performing test of NCOMP 2 versus NCOMP 3 for ['BR_H_BETA']...\n",
      "\n",
      "\t Fitting NCOMP 3\n"
     ]
    }
   ],
   "source": [
    "import importlib\n",
    "importlib.reload(badass)\n",
    "importlib.reload(badass_utils)\n",
    "importlib.reload(badass_ncomp_options)\n",
    "\n",
    "\n",
    "\n",
    "# Call the main function in BADASS\n",
    "badass.run_BADASS(pathlib.Path(file),\n",
    "                  options_file = options_file,\n",
    "                 )\n",
    "    #"
   ]
  },
  {
   "cell_type": "code",
   "execution_count": null,
   "metadata": {},
   "outputs": [],
   "source": []
  },
  {
   "cell_type": "code",
   "execution_count": null,
   "metadata": {},
   "outputs": [],
   "source": []
  }
 ],
 "metadata": {
  "kernelspec": {
   "display_name": "Python 3 (ipykernel)",
   "language": "python",
   "name": "python3"
  },
  "language_info": {
   "codemirror_mode": {
    "name": "ipython",
    "version": 3
   },
   "file_extension": ".py",
   "mimetype": "text/x-python",
   "name": "python",
   "nbconvert_exporter": "python",
   "pygments_lexer": "ipython3",
   "version": "3.8.15"
  }
 },
 "nbformat": 4,
 "nbformat_minor": 4
}
