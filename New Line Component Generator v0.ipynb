{
 "cells": [
  {
   "cell_type": "code",
   "execution_count": 3,
   "id": "11098037",
   "metadata": {},
   "outputs": [
    {
     "data": {
      "text/html": [
       "<style>.container { width:85% !important; }</style>"
      ],
      "text/plain": [
       "<IPython.core.display.HTML object>"
      ]
     },
     "metadata": {},
     "output_type": "display_data"
    }
   ],
   "source": [
    "# %matplotlib notebook\n",
    "%matplotlib inline\n",
    "import numpy as np\n",
    "import pandas as pd\n",
    "pd.set_option('display.max_columns', None)\n",
    "import matplotlib.pyplot as plt\n",
    "plt.rcParams['text.usetex'] = True\n",
    "# plt.rcParams[\"font.family\"] = \"Times New Roman\"\n",
    "import seaborn as sns\n",
    "sns.set_style(\"whitegrid\")\n",
    "\n",
    "from IPython.display import display, HTML\n",
    "display(HTML(\"<style>.container { width:85% !important; }</style>\"))\n",
    "\n",
    "import numexpr as ne\n",
    "# from astropy.table import Table\n",
    "# tbdata = Table.read('datafile', format='fits')\n",
    "# df = tbdata.to_pandas()\n",
    "\n",
    "# df['class'] = df['class'].str.decode('utf-8') \n",
    "\n",
    "# Plot\n",
    "# fig = plt.figure(figsize=(5,5))\n",
    "# ax1 = fig.add_subplot(1,1,1)\n",
    "# fontsize=16\n",
    "\n",
    "# ax1.set_xlabel(r\"\",fontsize=fontsize)\n",
    "# ax1.set_ylabel(r\"\",fontsize=fontsize)\n",
    "# ax1.set_title(r\"\",fontsize=fontsize)\n",
    "# ax1.tick_params(axis='both', labelsize=fontsize)\n",
    "# plt.tight_layout()"
   ]
  },
  {
   "cell_type": "code",
   "execution_count": 29,
   "id": "673d0b98",
   "metadata": {},
   "outputs": [
    {
     "name": "stdout",
     "output_type": "stream",
     "text": [
      "{'NA_H_BETA': {'center': 4862.691, 'amp': 'free', 'disp': 'NA_OIII_5007_DISP', 'voff': 'free', 'line_type': 'na', 'label': 'H$\\\\beta$'}, 'NA_OIII_4960': {'center': 4960.295, 'amp': '(NA_OIII_5007_AMP/2.98)', 'disp': 'NA_OIII_5007_DISP', 'voff': 'NA_OIII_5007_VOFF', 'line_type': 'na', 'label': '[O III]'}, 'NA_OIII_5007': {'center': 5008.24, 'amp': 'free', 'disp': 'free', 'voff': 'free', 'line_type': 'na', 'label': '[O III]'}}\n"
     ]
    }
   ],
   "source": [
    "narrow_lines = {\n",
    "    \n",
    "        \"NA_H_BETA\"\t   :{\"center\":4862.691, \n",
    "                         \"amp\":\"free\", \n",
    "                         \"disp\":\"NA_OIII_5007_DISP\", \n",
    "                         \"voff\":\"free\",\n",
    "                         \"line_type\":\"na\",\n",
    "                         \"label\":r\"H$\\beta$\"\n",
    "                        },\n",
    "        \"NA_OIII_4960\" :{\"center\":4960.295, \n",
    "                         \"amp\":\"(NA_OIII_5007_AMP/2.98)\", \n",
    "                         \"disp\":\"NA_OIII_5007_DISP\", \n",
    "                         \"voff\":\"NA_OIII_5007_VOFF\",\n",
    "                         \"line_type\":\"na\",\n",
    "                         \"label\":r\"[O III]\"\n",
    "                        },\n",
    "        \"NA_OIII_5007\" :{\"center\":5008.240, \n",
    "                         \"amp\":\"free\", \n",
    "                         \"disp\":\"free\", \n",
    "                         \"voff\":\"free\",\n",
    "                         \"line_type\":\"na\",\n",
    "                         \"label\":r\"[O III]\"\n",
    "                        },\n",
    "\n",
    "}\n",
    "\n",
    "param_dict = {\n",
    "    \"NA_H_BETA_AMP\":5.0,\n",
    "    \"NA_H_BETA_VOFF\":2.0,\n",
    "    \"NA_OIII_5007_AMP\":10.0,\n",
    "    \"NA_OIII_5007_DISP\":100.0,\n",
    "    \"NA_OIII_5007_VOFF\":0.0,\n",
    "}\n",
    "\n",
    "\n",
    "line_list = {**narrow_lines}\n",
    "print(line_list)"
   ]
  },
  {
   "cell_type": "code",
   "execution_count": 69,
   "id": "35c16aaf",
   "metadata": {},
   "outputs": [
    {
     "name": "stdout",
     "output_type": "stream",
     "text": [
      "NA_H_BETA disp 100.0\n",
      "NA_OIII_4960 amp 3.3557046979865772\n",
      "NA_OIII_4960 disp 100.0\n",
      "NA_OIII_4960 voff 0.0\n"
     ]
    }
   ],
   "source": [
    "for line in list(line_list):\n",
    "        for hpar in line_list[line]:\n",
    "            if (line_list[line][hpar]!=\"free\") and (hpar in [\"amp\",\"disp\",\"voff\",\"h3\",\"h4\",\"h5\",\"h6\",\"h7\",\"h8\",\"h9\",\"h10\",\"shape\"]):\n",
    "                if (isinstance(line_list[line][hpar],(int,float))):\n",
    "                    line_list[line][hpar] = float(line_list[line][hpar])\n",
    "                    print(line,hpar,float(line_list[line][hpar]))\n",
    "#                     pass\n",
    "                else:\n",
    "                    print(line,hpar,ne.evaluate(line_list[line][hpar], local_dict = param_dict).item())\n",
    "                        "
   ]
  },
  {
   "cell_type": "code",
   "execution_count": 84,
   "id": "a756fb75",
   "metadata": {},
   "outputs": [
    {
     "name": "stdout",
     "output_type": "stream",
     "text": [
      "{'center': 4862.691, 'amp': 'free', 'disp': 'NA_OIII_5007_DISP', 'voff': 'free', 'line_type': 'na', 'label': 'H$\\\\beta$'}\n",
      "{'center': 4960.295, 'amp': '(NA_OIII_5007_AMP/2.98)', 'disp': 'NA_OIII_5007_DISP', 'voff': 'NA_OIII_5007_VOFF', 'line_type': 'na', 'label': '[O III]'}\n",
      "{'center': 5008.24, 'amp': 'free', 'disp': 'free', 'voff': 'free', 'line_type': 'na', 'label': '[O III]'}\n",
      "NCOMP_2\n",
      "\t NA_H_BETA_2\n",
      "\t\t center = 4862.691\n",
      "\t\t amp = free\n",
      "\t\t disp = NA_OIII_5007_2_DISP\n",
      "\t\t voff = free\n",
      "\t\t line_type = na\n",
      "\t NA_OIII_4960_2\n",
      "\t\t center = 4960.295\n",
      "\t\t amp = (NA_OIII_5007_2_AMP/2.98)\n",
      "\t\t disp = NA_OIII_5007_2_DISP\n",
      "\t\t voff = NA_OIII_5007_2_VOFF\n",
      "\t\t line_type = na\n",
      "\t NA_OIII_5007_2\n",
      "\t\t center = 5008.24\n",
      "\t\t amp = free\n",
      "\t\t disp = free\n",
      "\t\t voff = free\n",
      "\t\t line_type = na\n"
     ]
    }
   ],
   "source": [
    "# Add additional components before hard and soft constraints are checked.\n",
    "ncomp = 2\n",
    "ncomp_list = {}\n",
    "if ncomp>1:    \n",
    "    for n in np.arange(ncomp-1)+2:\n",
    "#         print(n)\n",
    "        # Create a dictionary for each additional set of components\n",
    "        ncomp_list[\"NCOMP_%d\" % n] = {}\n",
    "        for line in line_list: # line is the \"parent\" line\n",
    "            print(line_list[line])\n",
    "#             print(line)\n",
    "            # Create a new child line based on the parent line\n",
    "            ncomp_list[\"NCOMP_%d\" % n][line+\"_%d\" % n] = {}\n",
    "            for hpar in line_list[line]:\n",
    "                # First non-fittable hyperparameters (center, line_type, line_profile)\n",
    "                if hpar==\"center\":\n",
    "                    ncomp_list[\"NCOMP_%d\" % n][line+\"_%d\" % n][hpar] = line_list[line][\"center\"]\n",
    "                if hpar==\"line_type\":\n",
    "                    ncomp_list[\"NCOMP_%d\" % n][line+\"_%d\" % n][hpar] = line_list[line][\"line_type\"]\n",
    "                if hpar==\"line_profile\":\n",
    "                    ncomp_list[\"NCOMP_%d\" % n][line+\"_%d\" % n][hpar] = line_list[line][\"line_profile\"]\n",
    "                # Now fittable hyperparameters (amp, disp, voff, h3, shape, etc.)\n",
    "                # Parameters that are free in the parent will become free in the child. \n",
    "                # Parameters that are tied in the parenter will become tied to their respective child component parameters.\n",
    "                if (hpar in [\"amp\",\"disp\",\"voff\",\"h3\",\"h4\",\"h5\",\"h6\",\"h7\",\"h8\",\"h9\",\"h10\",\"shape\"]) and (line_list[line][hpar]==\"free\"):\n",
    "                    ncomp_list[\"NCOMP_%d\" % n][line+\"_%d\" % n][hpar] = line_list[line][hpar]\n",
    "                elif (hpar in [\"amp\",\"disp\",\"voff\",\"h3\",\"h4\",\"h5\",\"h6\",\"h7\",\"h8\",\"h9\",\"h10\",\"shape\"]) and (line_list[line][hpar]!=\"free\"):\n",
    "#                     print(hpar,line_list[line][hpar])\n",
    "#                     print(line_list.keys())\n",
    "                    for key in line_list.keys():\n",
    "                        if key in line_list[line][hpar]:\n",
    "                            new_hpar = line_list[line][hpar].replace(key,key+\"_%d\" % n)\n",
    "                            ncomp_list[\"NCOMP_%d\" % n][line+\"_%d\" % n][hpar] = new_hpar\n",
    "                \n",
    "                    \n",
    "                \n",
    "            \n",
    "        \n",
    "if ncomp_list:\n",
    "    for n in ncomp_list:\n",
    "        print(n)\n",
    "        for line in ncomp_list[n]:\n",
    "            print(\"\\t\",line)\n",
    "            for hpar in ncomp_list[n][line]:\n",
    "                print(\"\\t\\t\",hpar,\"=\",ncomp_list[n][line][hpar])\n",
    "        "
   ]
  },
  {
   "cell_type": "code",
   "execution_count": 87,
   "id": "82bc9edd",
   "metadata": {},
   "outputs": [
    {
     "name": "stdout",
     "output_type": "stream",
     "text": [
      "1\n"
     ]
    }
   ],
   "source": [
    "amp = (0,)\n",
    "print(len(amp))"
   ]
  },
  {
   "cell_type": "code",
   "execution_count": null,
   "id": "0cfccfe9",
   "metadata": {},
   "outputs": [],
   "source": []
  }
 ],
 "metadata": {
  "kernelspec": {
   "display_name": "Python 3 (ipykernel)",
   "language": "python",
   "name": "python3"
  },
  "language_info": {
   "codemirror_mode": {
    "name": "ipython",
    "version": 3
   },
   "file_extension": ".py",
   "mimetype": "text/x-python",
   "name": "python",
   "nbconvert_exporter": "python",
   "pygments_lexer": "ipython3",
   "version": "3.8.15"
  }
 },
 "nbformat": 4,
 "nbformat_minor": 5
}
