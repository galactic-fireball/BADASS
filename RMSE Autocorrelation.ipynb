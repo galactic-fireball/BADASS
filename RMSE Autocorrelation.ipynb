{
 "cells": [
  {
   "cell_type": "code",
   "execution_count": 1,
   "id": "db16c64e",
   "metadata": {},
   "outputs": [
    {
     "data": {
      "text/html": [
       "<style>.container { width:85% !important; }</style>"
      ],
      "text/plain": [
       "<IPython.core.display.HTML object>"
      ]
     },
     "metadata": {},
     "output_type": "display_data"
    }
   ],
   "source": [
    "# %matplotlib notebook\n",
    "%matplotlib inline\n",
    "import numpy as np\n",
    "import pandas as pd\n",
    "pd.set_option('display.max_columns', None)\n",
    "import matplotlib.pyplot as plt\n",
    "plt.rcParams['text.usetex'] = True\n",
    "plt.style.use('dark_background')\n",
    "# plt.rcParams[\"font.family\"] = \"Times New Roman\"\n",
    "# import seaborn as sns\n",
    "# sns.set_style(\"whitegrid\")\n",
    "\n",
    "from IPython.display import display, HTML\n",
    "display(HTML(\"<style>.container { width:85% !important; }</style>\"))\n",
    "\n",
    "\n",
    "# from astropy.table import Table\n",
    "# tbdata = Table.read('datafile', format='fits')\n",
    "# df = tbdata.to_pandas()\n",
    "\n",
    "# df['class'] = df['class'].str.decode('utf-8') \n",
    "\n",
    "# Plot\n",
    "# fig = plt.figure(figsize=(5,5))\n",
    "# ax1 = fig.add_subplot(1,1,1)\n",
    "# fontsize=16\n",
    "\n",
    "# ax1.set_xlabel(r\"\",fontsize=fontsize)\n",
    "# ax1.set_ylabel(r\"\",fontsize=fontsize)\n",
    "# ax1.set_title(r\"\",fontsize=fontsize)\n",
    "# ax1.tick_params(axis='both', labelsize=fontsize)\n",
    "# plt.tight_layout()"
   ]
  },
  {
   "cell_type": "code",
   "execution_count": null,
   "id": "d8fcb2b1",
   "metadata": {},
   "outputs": [],
   "source": [
    "c1 = [200.07755889719564, 129.3875972822374, 86.44404200902078, 61.20829696283264, 49.612457536360694, 48.239656419078436, 52.01482372204802, 50.6306909863501, 50.9076367126427, 49.788625345486516, 48.049512866770286, 47.50529381691374, 47.766876531070515, 47.87271853218518, 47.554655862897036, 47.90527757614171, 47.91152143549416, 47.91651928046557, 48.0337920754135, 48.06303003492317, 48.392528182536395, 47.539115068533974, 47.45777115066006, 47.97737304742581, 47.64986573567743, 47.31475033090879, 47.43034689905692, 47.53132003273698, 47.62154797969855, 47.665642641767704, 47.615026360261986, 47.52637648348422, 47.58863078505215]\n",
    "\n",
    "c2 = [32.60432139565836, 31.414116439290435, 32.306385302153785, 31.960716918599694, 33.11901481275361, 33.119869791433295, 31.517757108887817, 31.683019838348077, 31.841870921687992, 31.65232353447798, 31.752777944041963, 31.686772109919833, 31.483078753152157, 31.677419390590686, 31.652732223036825, 31.64304519486154]\n",
    "\n",
    "c3 = [12.108481253988074, 12.210021412311509, 12.180300093966268, 12.106320066932316, 12.116762782090355, 12.08603247539244, 12.08665514954001, 12.096798279957406, 12.101944574988451]\n",
    "\n",
    "c4 = \n",
    "\n",
    "c5 = \n"
   ]
  }
 ],
 "metadata": {
  "kernelspec": {
   "display_name": "Python 3 (ipykernel)",
   "language": "python",
   "name": "python3"
  },
  "language_info": {
   "codemirror_mode": {
    "name": "ipython",
    "version": 3
   },
   "file_extension": ".py",
   "mimetype": "text/x-python",
   "name": "python",
   "nbconvert_exporter": "python",
   "pygments_lexer": "ipython3",
   "version": "3.8.15"
  }
 },
 "nbformat": 4,
 "nbformat_minor": 5
}
