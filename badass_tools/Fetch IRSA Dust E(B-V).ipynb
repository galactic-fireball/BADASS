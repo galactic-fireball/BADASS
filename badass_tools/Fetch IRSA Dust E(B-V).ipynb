{
 "cells": [
  {
   "cell_type": "markdown",
   "metadata": {},
   "source": [
    "# Fetch IRSA Dust E(B-V)\n",
    "\n",
    "When running BADASS for multiple spectra using the multiprocessing notebook, BADASS will hangup when trying to fit spectra it has not previously obtained E(B-V) values for via Astroquery's [IRSA Dust Extinction Service Query](https://astroquery.readthedocs.io/en/latest/irsa/irsa_dust.html).  This is a known issue (see [this](https://github.com/astropy/astroquery/issues/684).  The problem stems from the fact that `IrsaDust. get_query_table()` treats multiple Python subprocesses as a single-process. For example, if you are running 4 subprocesses (fitting 4 spectra simultaneously), it will only query the last process of the four, and leave the first three hanging.  \n",
    "\n",
    "Luckily there is a workaround.  `IrsaDust. get_query_table()` stores previous queries on your local machine so they can be accessed without looking them up every single time.  The solution is to simply query E(B-V) values for all of your objects before fitting, which seems dumb but it's the only workaround and its quick.   "
   ]
  },
  {
   "cell_type": "code",
   "execution_count": 1,
   "metadata": {},
   "outputs": [],
   "source": [
    "import numpy as np\n",
    "from astropy.io import fits\n",
    "from astroquery.irsa_dust import IrsaDust\n",
    "import astropy.units as u\n",
    "from astropy import coordinates\n",
    "import glob\n",
    "import natsort\n",
    "import sys"
   ]
  },
  {
   "cell_type": "code",
   "execution_count": 2,
   "metadata": {},
   "outputs": [],
   "source": [
    "def fetch_IRSA_dust(spec_fold):\n",
    "    # Get path of of spectra file\n",
    "    spec_file = glob.glob(spec_fold+'/*.fits')[0]\n",
    "    # Get object name \n",
    "    obj_name = spec_fold.split('/')[-1]\n",
    "    \n",
    "    # Load the data\n",
    "    hdu = fits.open(spec_file)\n",
    "    header_cols = [i.keyword for i in hdu[0].header.cards]\n",
    "    if (\"RA\" in header_cols) and (\"DEC\" in header_cols):\n",
    "        ra  = hdu[0].header['RA']\n",
    "        dec = hdu[0].header['DEC']\n",
    "\n",
    "        co = coordinates.SkyCoord(ra=ra, dec=dec, unit=(u.deg, u.deg), frame='fk5')\n",
    "        table = IrsaDust.get_query_table(co,section='ebv')\n",
    "#         print(IrsaDust.cache_location)\n",
    "        ebv = table['ext SandF mean'][0]\n",
    "\n",
    "        hdu.close()\n",
    "        print(' %s,  %0.3f' % (obj_name, ebv))\n",
    "        return ebv\n",
    "    else: \n",
    "        return None"
   ]
  },
  {
   "cell_type": "markdown",
   "metadata": {},
   "source": [
    "### Directories\n"
   ]
  },
  {
   "cell_type": "code",
   "execution_count": 3,
   "metadata": {},
   "outputs": [
    {
     "name": "stdout",
     "output_type": "stream",
     "text": [
      "22\n"
     ]
    }
   ],
   "source": [
    "spec_dir  = '../examples/'\n",
    "\n",
    "spec_fold = natsort.natsorted(glob.glob(spec_dir+'*'))\n",
    "print(len(spec_fold))\n",
    "spec_fold = spec_fold[:20]"
   ]
  },
  {
   "cell_type": "markdown",
   "metadata": {},
   "source": [
    "### Run"
   ]
  },
  {
   "cell_type": "code",
   "execution_count": 4,
   "metadata": {
    "scrolled": false
   },
   "outputs": [
    {
     "name": "stdout",
     "output_type": "stream",
     "text": [
      " 0-test,  0.017\n",
      " 1-test,  0.041\n",
      " 2-test,  0.032\n",
      " 3-test,  0.088\n",
      " 4-test,  0.039\n",
      " 5-test,  0.023\n",
      " 6-test,  0.011\n",
      " 7-test,  0.019\n",
      " 8-test,  0.022\n",
      " 9-test,  0.006\n",
      " 10-test,  0.011\n",
      " 11-test,  0.035\n",
      " 12-test,  0.106\n",
      " 13-test,  0.064\n",
      " 14-test,  0.093\n",
      " 15-test,  0.036\n",
      " 16-test,  0.008\n",
      " 18-test,  0.023\n",
      " 19-test,  0.052\n",
      "\n",
      " Done\n"
     ]
    }
   ],
   "source": [
    "for i in range(len(spec_fold)):\n",
    "    ebv = fetch_IRSA_dust(spec_fold[i])\n",
    "    \n",
    "print('\\n Done')"
   ]
  },
  {
   "cell_type": "code",
   "execution_count": null,
   "metadata": {},
   "outputs": [],
   "source": []
  }
 ],
 "metadata": {
  "kernelspec": {
   "display_name": "Python 3",
   "language": "python",
   "name": "python3"
  },
  "language_info": {
   "codemirror_mode": {
    "name": "ipython",
    "version": 3
   },
   "file_extension": ".py",
   "mimetype": "text/x-python",
   "name": "python",
   "nbconvert_exporter": "python",
   "pygments_lexer": "ipython3",
   "version": "3.8.10"
  }
 },
 "nbformat": 4,
 "nbformat_minor": 4
}
