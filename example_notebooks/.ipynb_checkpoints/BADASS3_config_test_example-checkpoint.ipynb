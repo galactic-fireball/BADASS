{
 "cells": [
  {
   "cell_type": "markdown",
   "metadata": {
    "tags": []
   },
   "source": [
    "## Bayesian AGN Decomposition Analysis for SDSS Spectra (BADASS)\n",
    "### Single Spectrum Configuration Test Example\n",
    "\n",
    "This notebook shows how to perform configuration testing.  Configuration testing is different from line testing.  Line testing performs tests on individual lines, whereas configurations can be multiple different lines simultaenously.  As a result, configuration testing requires the user to explicitly define which lines to test and the order to test them in.  BADASS will *not* discriminate between simple and complex models, but instead performs the fits in the order the user supplies them, and then will choose the best one.  It is up to the user to order the configurations in increasing complexity if the user wishes to test in such a way similar to the line test.\n",
    "\n",
    "In this example, we showcase how the configuration test is best utilized, and where the line test would fail.  Here we determine the best configuration to fit to the superposition of broad and narrow lines for the H$\\alpha$/[NII] region.  The line test would fail in this regard because the line test cannot test broad and narrow lines simultaenously.\n",
    "\n",
    "\n",
    "####  Remington O. Sexton$^{1}$, Sara M. Doan$^{2}$, William Matzko$^{2}$ Michael A. Reefe$^{2}$, \n",
    "$^{1}$United States Naval Observatory, $^{2}$George Mason University\n"
   ]
  },
  {
   "cell_type": "code",
   "execution_count": 1,
   "metadata": {
    "tags": []
   },
   "outputs": [
    {
     "data": {
      "text/html": [
       "<style>.container { width:85% !important; }</style>"
      ],
      "text/plain": [
       "<IPython.core.display.HTML object>"
      ]
     },
     "metadata": {},
     "output_type": "display_data"
    }
   ],
   "source": [
    "import glob\n",
    "import time\n",
    "import natsort\n",
    "from IPython.display import clear_output\n",
    "import os\n",
    "import sys\n",
    "import psutil\n",
    "import pathlib\n",
    "import natsort\n",
    "# Import BADASS here\n",
    "BADASS_DIR = pathlib.Path(os.getcwd()).resolve().parent\n",
    "sys.path.insert(1,str(BADASS_DIR))\n",
    "import badass as badass\n",
    "import badass_check_input\n",
    "import badass_config_options\n",
    "\n",
    "from IPython.display import display, HTML\n",
    "display(HTML(\"<style>.container { width:85% !important; }</style>\"))"
   ]
  },
  {
   "cell_type": "markdown",
   "metadata": {},
   "source": [
    "### BADASS Options"
   ]
  },
  {
   "cell_type": "code",
   "execution_count": 2,
   "metadata": {
    "tags": []
   },
   "outputs": [
    {
     "name": "stdout",
     "output_type": "stream",
     "text": [
      "\n",
      " Options file badass_config_options.py found.\n",
      "\n"
     ]
    }
   ],
   "source": [
    "options_file = \"badass_config_options.py\"\n",
    "\n",
    "if os.path.exists(options_file):\n",
    "    print(\"\\n Options file %s found.\\n\" % (options_file))"
   ]
  },
  {
   "cell_type": "markdown",
   "metadata": {},
   "source": [
    "### Run BADASS on a single spectrum\n",
    "\n",
    "The following is shows how to fit single SDSS spectra."
   ]
  },
  {
   "cell_type": "markdown",
   "metadata": {},
   "source": [
    "#### Directory Structure"
   ]
  },
  {
   "cell_type": "code",
   "execution_count": 3,
   "metadata": {
    "tags": []
   },
   "outputs": [
    {
     "name": "stdout",
     "output_type": "stream",
     "text": [
      "25\n",
      "../example_spectra/2-test\n"
     ]
    }
   ],
   "source": [
    "nobj = 2 # Object in the spec_dir list\n",
    "########################## Directory Structure #################################\n",
    "spec_dir = '../example_spectra/' # folder with spectra in it\n",
    "# Get full list of spectrum folders; these will be the working directories\n",
    "spec_loc = natsort.natsorted( glob.glob(spec_dir+'*') )[nobj]\n",
    "\n",
    "################################################################################\n",
    "print(len(spec_loc))\n",
    "print(spec_loc)\n"
   ]
  },
  {
   "cell_type": "markdown",
   "metadata": {},
   "source": [
    "#### Choose Spectrum "
   ]
  },
  {
   "cell_type": "code",
   "execution_count": 4,
   "metadata": {
    "tags": []
   },
   "outputs": [
    {
     "name": "stdout",
     "output_type": "stream",
     "text": [
      "../example_spectra/2-test/spec-2756-54508-0579.fits\n"
     ]
    }
   ],
   "source": [
    "file = glob.glob(spec_loc+'/*.fits')[0] # Get name of FITS spectra file\n",
    "print(file)"
   ]
  },
  {
   "cell_type": "markdown",
   "metadata": {},
   "source": [
    "#### Run IRSA Dust Query\n",
    "To correct for Galactic extinction.  This only needs to be done once so that the data is stored locally."
   ]
  },
  {
   "cell_type": "code",
   "execution_count": 5,
   "metadata": {},
   "outputs": [
    {
     "name": "stdout",
     "output_type": "stream",
     "text": [
      "\n",
      " Fetching IRSA Dust for spectra...\n",
      "\n",
      " Done fetching IRSA dust!\t\n",
      "\n"
     ]
    }
   ],
   "source": [
    "badass_check_input.fetch_IRSA_dust(spec_loc)"
   ]
  },
  {
   "cell_type": "markdown",
   "metadata": {},
   "source": [
    "#### Run "
   ]
  },
  {
   "cell_type": "code",
   "execution_count": 6,
   "metadata": {},
   "outputs": [
    {
     "name": "stdout",
     "output_type": "stream",
     "text": [
      "Start process memory: 0.27220787                    \n",
      " Folder has not been created.  Creating MCMC_output folder...\n",
      "\n",
      " > Starting fit for 2-test\n",
      "\n",
      " Input fitting region exceeds available wavelength range.  BADASS will adjust your fitting range automatically...\n",
      "\t\t- Input fitting range: (4400, 5500)\n",
      "\t\t- Available wavelength range: (2218, 5354)\n",
      "\t\t- New fitting region is (4400, 5355). \n",
      "\n",
      "\n",
      "\n",
      "-----------------------------------------------------------\n",
      " file:                        spec-2756-54508-0579.fits     \n",
      " SDSS redshift:               0.71967                       \n",
      " fitting region:              (4400,5355) [A]               \n",
      " velocity scale:              69.15 [km/s/pixel]            \n",
      " Galactic E(B-V):             0.032                         \n",
      " Flux Normalization:          1.0e-17                       \n",
      "-----------------------------------------------------------\n",
      "\t- Adding parameter for unexplained variance for reduced Chi-squared.\n",
      "\t- Fitting a SSP host-galaxy template.\n",
      "\t- Fitting additive legendre polynomial component.\n",
      "\t- Fitting Simple AGN power-law continuum.\n",
      "\n",
      " - ('BR_MGII_2799_DISP', 'NA_MGII_2799_DISP') soft constraint removed because one or more free parameters is not available.\n",
      "\n",
      " - ('OUT_NII_6585_DISP', 'NA_NII_6585_DISP') soft constraint removed because one or more free parameters is not available.\n",
      "\n",
      " Performing configuration testing for 9 configurations...\n",
      "----------------------------------------------------------------------------------------------------\n",
      "\t Fitting CONFIG 1\n",
      "-------------------------------------------------------\n",
      "\n",
      "\n",
      "NOISE_SCALE\n",
      "\t init = 1.0\n",
      "\t plim = (0.0001, 100.0)\n",
      "\t prior = {'type': 'jeffreys'}\n",
      "HOST_TEMP_VEL\n",
      "\t init = 0.0\n",
      "\t plim = (-500.0, 500)\n",
      "HOST_TEMP_DISP\n",
      "\t init = 100.0\n",
      "\t plim = (0.001, 500.0)\n",
      "APOLY_COEFF_1\n",
      "\t init = 0.0\n",
      "\t plim = (-100.0, 100.0)\n",
      "APOLY_COEFF_2\n",
      "\t init = 0.0\n",
      "\t plim = (-100.0, 100.0)\n",
      "APOLY_COEFF_3\n",
      "\t init = 0.0\n",
      "\t plim = (-100.0, 100.0)\n",
      "POWER_AMP\n",
      "\t init = 29.131762146250143\n",
      "\t plim = (0, 609.5398772334967)\n",
      "POWER_SLOPE\n",
      "\t init = -1.0\n",
      "\t plim = (-6.0, 6.0)\n",
      "NA_H_BETA_VOFF\n",
      "\t init = 54.39160208657732\n",
      "\t plim = (-1000, 1000)\n",
      "\t prior = {'type': 'gaussian'}\n",
      "NA_H_BETA_AMP\n",
      "\t init = 126.06889615498525\n",
      "\t plim = (0.0, 812.7198363113289)\n",
      "NA_OIII_5007_VOFF\n",
      "\t init = -89.51267826969064\n",
      "\t plim = (-1000, 1000)\n",
      "\t prior = {'type': 'gaussian'}\n",
      "NA_OIII_5007_AMP\n",
      "\t init = 395.25313466585817\n",
      "\t plim = (0.0, 812.7198363113289)\n",
      "NA_OIII_5007_DISP\n",
      "\t init = 50.0\n",
      "\t plim = (0, 1000)\n",
      "\n",
      "\n",
      "NA_H_BETA\n",
      "\t center = 4862.691\n",
      "\t amp = free\n",
      "\t disp = NA_OIII_5007_DISP\n",
      "\t voff = free\n",
      "\t line_type = na\n",
      "\t label = H$\\beta$\n",
      "\t ncomp = 1\n",
      "\t line_profile = gaussian\n",
      "\t center_pix = 435.21099039301293\n",
      "\t disp_res_ang = 0.7266926172967304\n",
      "\t disp_res_kms = 44.80172932021387\n",
      "NA_OIII_4960\n",
      "\t center = 4960.295\n",
      "\t amp = (NA_OIII_5007_AMP/2.98)\n",
      "\t disp = NA_OIII_5007_DISP\n",
      "\t voff = NA_OIII_5007_VOFF\n",
      "\t line_type = na\n",
      "\t label = [O III]\n",
      "\t ncomp = 1\n",
      "\t line_profile = gaussian\n",
      "\t center_pix = 521.5197602739727\n",
      "\t disp_res_ang = 0.7349264587941482\n",
      "\t disp_res_kms = 44.41780368529158\n",
      "NA_OIII_5007\n",
      "\t center = 5008.24\n",
      "\t amp = free\n",
      "\t disp = free\n",
      "\t voff = free\n",
      "\t line_type = na\n",
      "\t label = [O III]\n",
      "\t ncomp = 1\n",
      "\t line_profile = gaussian\n",
      "\t center_pix = 563.2959830508472\n",
      "\t disp_res_ang = 0.7407543175269816\n",
      "\t disp_res_kms = 44.341436837197556\n",
      "\n",
      "\n",
      "\n",
      "\n",
      "\n",
      " Performing max. likelihood fitting.\n",
      "\n",
      " Using Basin-hopping algorithm to estimate parameters. niter_success = 25\n",
      "basinhopping step 0: f 10695.5\n",
      "warning: basinhopping: local minimization failure\n",
      "basinhopping step 1: f 10695.5 trial_f inf accepted 0  lowest_f 10695.5\n",
      "basinhopping step 2: f -348.822 trial_f -348.822 accepted 1  lowest_f -348.822\n",
      "found new global minimum on step 2 with function value -348.822\n",
      "basinhopping step 3: f -560.786 trial_f -560.786 accepted 1  lowest_f -560.786\n",
      "found new global minimum on step 3 with function value -560.786\n",
      "warning: basinhopping: local minimization failure\n",
      "basinhopping step 4: f -560.786 trial_f inf accepted 0  lowest_f -560.786\n",
      "warning: basinhopping: local minimization failure\n",
      "basinhopping step 5: f -560.786 trial_f inf accepted 0  lowest_f -560.786\n",
      "warning: basinhopping: local minimization failure\n",
      "basinhopping step 6: f -560.786 trial_f inf accepted 0  lowest_f -560.786\n",
      "warning: basinhopping: local minimization failure\n",
      "basinhopping step 7: f -560.786 trial_f inf accepted 0  lowest_f -560.786\n",
      "basinhopping step 8: f -562.477 trial_f -562.477 accepted 1  lowest_f -562.477\n",
      "found new global minimum on step 8 with function value -562.477\n",
      "warning: basinhopping: local minimization failure\n",
      "basinhopping step 9: f -562.477 trial_f inf accepted 0  lowest_f -562.477\n",
      "basinhopping step 10: f -564.502 trial_f -564.502 accepted 1  lowest_f -564.502\n",
      "found new global minimum on step 10 with function value -564.502\n",
      "warning: basinhopping: local minimization failure\n",
      "basinhopping step 11: f -564.502 trial_f inf accepted 0  lowest_f -564.502\n",
      "basinhopping step 12: f -564.502 trial_f -523.74 accepted 0  lowest_f -564.502\n",
      "basinhopping step 13: f -564.502 trial_f -409.186 accepted 0  lowest_f -564.502\n",
      "basinhopping step 14: f -564.502 trial_f -415.36 accepted 0  lowest_f -564.502\n",
      "basinhopping step 15: f -564.502 trial_f -563.051 accepted 0  lowest_f -564.502\n",
      "warning: basinhopping: local minimization failure\n",
      "basinhopping step 16: f -564.502 trial_f inf accepted 0  lowest_f -564.502\n",
      "basinhopping step 17: f -564.502 trial_f -562.812 accepted 0  lowest_f -564.502\n",
      "basinhopping step 18: f -564.502 trial_f -502.743 accepted 0  lowest_f -564.502\n",
      "basinhopping step 19: f -564.502 trial_f -558.551 accepted 0  lowest_f -564.502\n",
      "basinhopping step 20: f -564.502 trial_f 633411 accepted 0  lowest_f -564.502\n",
      "basinhopping step 21: f -564.502 trial_f -542.951 accepted 0  lowest_f -564.502\n",
      "warning: basinhopping: local minimization failure\n",
      "basinhopping step 22: f -564.502 trial_f 3.68088e+07 accepted 0  lowest_f -564.502\n",
      "basinhopping step 23: f -564.502 trial_f 3749.81 accepted 0  lowest_f -564.502\n",
      "basinhopping step 24: f -565.054 trial_f -565.054 accepted 1  lowest_f -565.054\n",
      "found new global minimum on step 24 with function value -565.054\n",
      "warning: basinhopping: local minimization failure\n",
      "basinhopping step 25: f -565.054 trial_f inf accepted 0  lowest_f -565.054\n",
      "warning: basinhopping: local minimization failure\n",
      "basinhopping step 26: f -565.054 trial_f inf accepted 0  lowest_f -565.054\n",
      "basinhopping step 27: f -565.054 trial_f 3.0798e+06 accepted 0  lowest_f -565.054\n",
      "warning: basinhopping: local minimization failure\n",
      "basinhopping step 28: f -565.054 trial_f inf accepted 0  lowest_f -565.054\n",
      "basinhopping step 29: f -565.054 trial_f -560.575 accepted 0  lowest_f -565.054\n",
      "warning: basinhopping: local minimization failure\n",
      "basinhopping step 30: f -565.054 trial_f inf accepted 0  lowest_f -565.054\n",
      "warning: basinhopping: local minimization failure\n",
      "basinhopping step 31: f -565.054 trial_f inf accepted 0  lowest_f -565.054\n",
      "basinhopping step 32: f -565.054 trial_f -99.7534 accepted 0  lowest_f -565.054\n",
      "warning: basinhopping: local minimization failure\n",
      "basinhopping step 33: f -565.054 trial_f inf accepted 0  lowest_f -565.054\n",
      "basinhopping step 34: f -565.054 trial_f -507.617 accepted 0  lowest_f -565.054\n",
      "warning: basinhopping: local minimization failure\n",
      "basinhopping step 35: f -565.054 trial_f inf accepted 0  lowest_f -565.054\n",
      "basinhopping step 36: f -565.054 trial_f 1048.45 accepted 0  lowest_f -565.054\n",
      "basinhopping step 37: f -565.054 trial_f -386.586 accepted 0  lowest_f -565.054\n",
      "warning: basinhopping: local minimization failure\n",
      "basinhopping step 38: f -565.054 trial_f inf accepted 0  lowest_f -565.054\n",
      "basinhopping step 39: f -565.054 trial_f -559.522 accepted 0  lowest_f -565.054\n",
      "basinhopping step 40: f -565.054 trial_f -111.862 accepted 0  lowest_f -565.054\n",
      "basinhopping step 41: f -565.054 trial_f 884.143 accepted 0  lowest_f -565.054\n",
      "warning: basinhopping: local minimization failure\n",
      "basinhopping step 42: f -565.054 trial_f inf accepted 0  lowest_f -565.054\n",
      "basinhopping step 43: f -565.054 trial_f -367.214 accepted 0  lowest_f -565.054\n",
      "warning: basinhopping: local minimization failure\n",
      "basinhopping step 44: f -565.054 trial_f inf accepted 0  lowest_f -565.054\n",
      "basinhopping step 45: f -565.054 trial_f -560.919 accepted 0  lowest_f -565.054\n",
      "basinhopping step 46: f -565.054 trial_f -555.483 accepted 0  lowest_f -565.054\n",
      "basinhopping step 47: f -566.131 trial_f -566.131 accepted 1  lowest_f -566.131\n",
      "found new global minimum on step 47 with function value -566.131\n",
      "basinhopping step 48: f -566.131 trial_f -565.152 accepted 0  lowest_f -566.131\n",
      "basinhopping step 49: f -566.131 trial_f -565.203 accepted 0  lowest_f -566.131\n",
      "adaptive stepsize: acceptance rate 0.120000 target 0.500000 new stepsize 9 old stepsize 10\n",
      "basinhopping step 50: f -566.131 trial_f -489.945 accepted 0  lowest_f -566.131\n",
      "warning: basinhopping: local minimization failure\n",
      "basinhopping step 51: f -566.131 trial_f inf accepted 0  lowest_f -566.131\n",
      "basinhopping step 52: f -566.131 trial_f -526.135 accepted 0  lowest_f -566.131\n",
      "basinhopping step 53: f -566.131 trial_f -164.819 accepted 0  lowest_f -566.131\n",
      "basinhopping step 54: f -565.459 trial_f -565.459 accepted 1  lowest_f -566.131\n",
      "warning: basinhopping: local minimization failure\n",
      "basinhopping step 55: f -565.459 trial_f inf accepted 0  lowest_f -566.131\n",
      "basinhopping step 56: f -565.459 trial_f -398.272 accepted 0  lowest_f -566.131\n",
      "warning: basinhopping: local minimization failure\n",
      "basinhopping step 57: f -565.459 trial_f inf accepted 0  lowest_f -566.131\n",
      "basinhopping step 58: f -565.459 trial_f -563.4 accepted 0  lowest_f -566.131\n",
      "basinhopping step 59: f -565.459 trial_f -543.917 accepted 0  lowest_f -566.131\n",
      "basinhopping step 60: f -565.459 trial_f -562.494 accepted 0  lowest_f -566.131\n",
      "basinhopping step 61: f -565.459 trial_f -539.594 accepted 0  lowest_f -566.131\n",
      "warning: basinhopping: local minimization failure\n",
      "basinhopping step 62: f -565.459 trial_f inf accepted 0  lowest_f -566.131\n",
      "basinhopping step 63: f -565.459 trial_f -222.448 accepted 0  lowest_f -566.131\n",
      "basinhopping step 64: f -565.459 trial_f -562.669 accepted 0  lowest_f -566.131\n",
      "basinhopping step 65: f -565.459 trial_f -563.842 accepted 0  lowest_f -566.131\n",
      "basinhopping step 66: f -565.459 trial_f 757.891 accepted 0  lowest_f -566.131\n",
      "basinhopping step 67: f -565.459 trial_f -563.433 accepted 0  lowest_f -566.131\n",
      "basinhopping step 68: f -565.459 trial_f -410.71 accepted 0  lowest_f -566.131\n",
      "warning: basinhopping: local minimization failure\n",
      "basinhopping step 69: f -565.459 trial_f inf accepted 0  lowest_f -566.131\n",
      "basinhopping step 70: f -565.459 trial_f -550.171 accepted 0  lowest_f -566.131\n",
      "basinhopping step 71: f -565.459 trial_f -388.506 accepted 0  lowest_f -566.131\n",
      "basinhopping step 72: f -565.459 trial_f -558.86 accepted 0  lowest_f -566.131\n",
      "basinhopping step 73: f -565.459 trial_f -560.409 accepted 0  lowest_f -566.131\n",
      "\n",
      "\n",
      " R-Squared = 0.9851\n",
      "\n",
      "\n",
      " Reduced Chi-Squared = 20.0107\n",
      "\n",
      "\n",
      " Root Mean Squared Error = 0.1474\n",
      "\n",
      "\n",
      " Mean Absolute Error = 0.0953\n",
      "\n",
      "\n",
      " Residual Standard Deviation = 8.5899\n",
      "\n",
      "\n",
      " Residual Median Absolute Deviation = 2.9737\n",
      "\n",
      "\n",
      " Residual Sum-of-Squares = 63013.5615\n",
      "\n",
      "\n",
      "-------------------------------------------------------\n"
     ]
    },
    {
     "ename": "AttributeError",
     "evalue": "'list' object has no attribute 'appen'",
     "output_type": "error",
     "traceback": [
      "\u001b[0;31m---------------------------------------------------------------------------\u001b[0m",
      "\u001b[0;31mAttributeError\u001b[0m                            Traceback (most recent call last)",
      "Cell \u001b[0;32mIn[6], line 13\u001b[0m\n\u001b[1;32m      4\u001b[0m importlib\u001b[38;5;241m.\u001b[39mreload(badass_config_options)\n\u001b[1;32m      5\u001b[0m \u001b[38;5;28;01mif\u001b[39;00m \u001b[38;5;241m1\u001b[39m:\n\u001b[1;32m      6\u001b[0m \u001b[38;5;66;03m# for i in range(1):\u001b[39;00m\n\u001b[1;32m      7\u001b[0m \u001b[38;5;66;03m#     np.random.seed()\u001b[39;00m\n\u001b[0;32m   (...)\u001b[0m\n\u001b[1;32m     11\u001b[0m     \n\u001b[1;32m     12\u001b[0m     \u001b[38;5;66;03m# Call the main function in BADASS\u001b[39;00m\n\u001b[0;32m---> 13\u001b[0m     \u001b[43mbadass\u001b[49m\u001b[38;5;241;43m.\u001b[39;49m\u001b[43mrun_BADASS\u001b[49m\u001b[43m(\u001b[49m\u001b[43mpathlib\u001b[49m\u001b[38;5;241;43m.\u001b[39;49m\u001b[43mPath\u001b[49m\u001b[43m(\u001b[49m\u001b[43mfile\u001b[49m\u001b[43m)\u001b[49m\u001b[43m,\u001b[49m\u001b[43m \u001b[49m\n\u001b[1;32m     14\u001b[0m \u001b[43m                      \u001b[49m\u001b[43moptions_file\u001b[49m\u001b[43m \u001b[49m\u001b[38;5;241;43m=\u001b[39;49m\u001b[43m \u001b[49m\u001b[43moptions_file\u001b[49m\u001b[43m,\u001b[49m\n\u001b[1;32m     15\u001b[0m \u001b[43m                     \u001b[49m\u001b[43m)\u001b[49m\n\u001b[1;32m     16\u001b[0m         \u001b[38;5;66;03m#\u001b[39;00m\n",
      "File \u001b[0;32m~/github_projects/BADASS3/badass.py:381\u001b[0m, in \u001b[0;36mrun_BADASS\u001b[0;34m(data, nobj, nprocesses, options_file, dust_cache, fit_options, test_options, mcmc_options, comp_options, narrow_options, broad_options, absorp_options, pca_options, user_lines, user_constraints, user_mask, combined_lines, losvd_options, host_options, power_options, poly_options, opt_feii_options, uv_iron_options, balmer_options, outflow_test_options, plot_options, output_options, sdss_spec, ifu_spec, spec, wave, err, fwhm_res, z, ebv, flux_norm)\u001b[0m\n\u001b[1;32m    378\u001b[0m     process \u001b[38;5;241m=\u001b[39m psutil\u001b[38;5;241m.\u001b[39mProcess(os\u001b[38;5;241m.\u001b[39mgetpid())\n\u001b[1;32m    379\u001b[0m     \u001b[38;5;28mprint\u001b[39m(\u001b[38;5;124mf\u001b[39m\u001b[38;5;124m\"\u001b[39m\u001b[38;5;124mStart process memory: \u001b[39m\u001b[38;5;132;01m{\u001b[39;00mprocess\u001b[38;5;241m.\u001b[39mmemory_info()\u001b[38;5;241m.\u001b[39mrss\u001b[38;5;241m/\u001b[39m\u001b[38;5;241m1e9\u001b[39m\u001b[38;5;132;01m:\u001b[39;00m\u001b[38;5;124m<30.8f\u001b[39m\u001b[38;5;132;01m}\u001b[39;00m\u001b[38;5;124m\"\u001b[39m)\n\u001b[0;32m--> 381\u001b[0m     \u001b[43mrun_single_thread\u001b[49m\u001b[43m(\u001b[49m\u001b[43mpathlib\u001b[49m\u001b[38;5;241;43m.\u001b[39;49m\u001b[43mPath\u001b[49m\u001b[43m(\u001b[49m\u001b[43mdata\u001b[49m\u001b[43m)\u001b[49m\u001b[43m,\u001b[49m\u001b[43m \u001b[49m\u001b[43moptions_file\u001b[49m\u001b[43m,\u001b[49m\u001b[43m \u001b[49m\u001b[43mdust_cache\u001b[49m\u001b[43m,\u001b[49m\u001b[43m \u001b[49m\u001b[43mfit_options\u001b[49m\u001b[43m,\u001b[49m\u001b[43m \u001b[49m\u001b[43mtest_options\u001b[49m\u001b[43m,\u001b[49m\u001b[43m \u001b[49m\u001b[43mmcmc_options\u001b[49m\u001b[43m,\u001b[49m\u001b[43m \u001b[49m\u001b[43mcomp_options\u001b[49m\u001b[43m,\u001b[49m\u001b[43m \u001b[49m\n\u001b[1;32m    382\u001b[0m \u001b[43m                      \u001b[49m\u001b[43mnarrow_options\u001b[49m\u001b[43m,\u001b[49m\u001b[43m \u001b[49m\u001b[43mbroad_options\u001b[49m\u001b[43m,\u001b[49m\u001b[43m \u001b[49m\u001b[43mabsorp_options\u001b[49m\u001b[43m,\u001b[49m\n\u001b[1;32m    383\u001b[0m \u001b[43m                      \u001b[49m\u001b[43mpca_options\u001b[49m\u001b[43m,\u001b[49m\n\u001b[1;32m    384\u001b[0m \u001b[43m                      \u001b[49m\u001b[43muser_lines\u001b[49m\u001b[43m,\u001b[49m\u001b[43m \u001b[49m\u001b[43muser_constraints\u001b[49m\u001b[43m,\u001b[49m\u001b[43m \u001b[49m\u001b[43muser_mask\u001b[49m\u001b[43m,\u001b[49m\u001b[43m \u001b[49m\u001b[43mcombined_lines\u001b[49m\u001b[43m,\u001b[49m\u001b[43m \u001b[49m\u001b[43mlosvd_options\u001b[49m\u001b[43m,\u001b[49m\u001b[43m \u001b[49m\u001b[43mhost_options\u001b[49m\u001b[43m,\u001b[49m\u001b[43m \u001b[49m\u001b[43mpower_options\u001b[49m\u001b[43m,\u001b[49m\u001b[43m \u001b[49m\u001b[43mpoly_options\u001b[49m\u001b[43m,\u001b[49m\n\u001b[1;32m    385\u001b[0m \u001b[43m                      \u001b[49m\u001b[43mopt_feii_options\u001b[49m\u001b[43m,\u001b[49m\u001b[43m \u001b[49m\u001b[43muv_iron_options\u001b[49m\u001b[43m,\u001b[49m\u001b[43m \u001b[49m\u001b[43mbalmer_options\u001b[49m\u001b[43m,\u001b[49m\u001b[43m \u001b[49m\u001b[43moutflow_test_options\u001b[49m\u001b[43m,\u001b[49m\u001b[43m \u001b[49m\u001b[43mplot_options\u001b[49m\u001b[43m,\u001b[49m\u001b[43m \u001b[49m\u001b[43moutput_options\u001b[49m\u001b[43m,\u001b[49m\n\u001b[1;32m    386\u001b[0m \u001b[43m                      \u001b[49m\u001b[43msdss_spec\u001b[49m\u001b[43m,\u001b[49m\u001b[43m \u001b[49m\u001b[43mifu_spec\u001b[49m\u001b[43m,\u001b[49m\u001b[43m \u001b[49m\u001b[43mspec\u001b[49m\u001b[43m,\u001b[49m\u001b[43m \u001b[49m\u001b[43mwave\u001b[49m\u001b[43m,\u001b[49m\u001b[43m \u001b[49m\u001b[43merr\u001b[49m\u001b[43m,\u001b[49m\u001b[43m \u001b[49m\u001b[43mfwhm_res\u001b[49m\u001b[43m,\u001b[49m\u001b[43m \u001b[49m\u001b[43mz\u001b[49m\u001b[43m,\u001b[49m\u001b[43m \u001b[49m\u001b[43mebv\u001b[49m\u001b[43m,\u001b[49m\u001b[43m \u001b[49m\u001b[43mflux_norm\u001b[49m\u001b[43m)\u001b[49m\n\u001b[1;32m    388\u001b[0m \u001b[38;5;66;03m# Print memory at the end\u001b[39;00m\n\u001b[1;32m    389\u001b[0m \u001b[38;5;28mprint\u001b[39m(\u001b[38;5;124mf\u001b[39m\u001b[38;5;124m\"\u001b[39m\u001b[38;5;124mEnd process memory: \u001b[39m\u001b[38;5;132;01m{\u001b[39;00mprocess\u001b[38;5;241m.\u001b[39mmemory_info()\u001b[38;5;241m.\u001b[39mrss\u001b[38;5;250m \u001b[39m\u001b[38;5;241m/\u001b[39m\u001b[38;5;250m \u001b[39m\u001b[38;5;241m1e9\u001b[39m\u001b[38;5;132;01m:\u001b[39;00m\u001b[38;5;124m<30.8f\u001b[39m\u001b[38;5;132;01m}\u001b[39;00m\u001b[38;5;124m\"\u001b[39m)\n",
      "File \u001b[0;32m~/github_projects/BADASS3/badass.py:923\u001b[0m, in \u001b[0;36mrun_single_thread\u001b[0;34m(fits_file, options_file, dust_cache, fit_options, test_options, mcmc_options, comp_options, narrow_options, broad_options, absorp_options, pca_options, user_lines, user_constraints, user_mask, combined_lines, losvd_options, host_options, power_options, poly_options, opt_feii_options, uv_iron_options, balmer_options, outflow_test_options, plot_options, output_options, sdss_spec, ifu_spec, spec, wave, err, fwhm_res, z, ebv, flux_norm)\u001b[0m\n\u001b[1;32m    917\u001b[0m     \u001b[38;5;28mprint\u001b[39m(\u001b[38;5;124m\"\u001b[39m\u001b[38;5;130;01m\\n\u001b[39;00m\u001b[38;5;124m Performing configuration testing for \u001b[39m\u001b[38;5;132;01m%d\u001b[39;00m\u001b[38;5;124m configurations...\u001b[39m\u001b[38;5;124m\"\u001b[39m \u001b[38;5;241m%\u001b[39m \u001b[38;5;28mlen\u001b[39m(test_options[\u001b[38;5;124m\"\u001b[39m\u001b[38;5;124mlines\u001b[39m\u001b[38;5;124m\"\u001b[39m]))\n\u001b[1;32m    918\u001b[0m     \u001b[38;5;28mprint\u001b[39m(\u001b[38;5;124m\"\u001b[39m\u001b[38;5;124m----------------------------------------------------------------------------------------------------\u001b[39m\u001b[38;5;124m\"\u001b[39m)\n\u001b[0;32m--> 923\u001b[0m user_lines, force_thresh \u001b[38;5;241m=\u001b[39m \u001b[43mconfig_test\u001b[49m\u001b[43m(\u001b[49m\u001b[43mparam_dict\u001b[49m\u001b[43m,\u001b[49m\n\u001b[1;32m    924\u001b[0m \u001b[43m                       \u001b[49m\u001b[43mline_list\u001b[49m\u001b[43m,\u001b[49m\n\u001b[1;32m    925\u001b[0m \u001b[43m                       \u001b[49m\u001b[43mcombined_line_list\u001b[49m\u001b[43m,\u001b[49m\n\u001b[1;32m    926\u001b[0m \u001b[43m                       \u001b[49m\u001b[43msoft_cons\u001b[49m\u001b[43m,\u001b[49m\n\u001b[1;32m    927\u001b[0m \u001b[43m                       \u001b[49m\u001b[43mncomp_dict\u001b[49m\u001b[43m,\u001b[49m\n\u001b[1;32m    928\u001b[0m \u001b[43m                       \u001b[49m\u001b[43mlam_gal\u001b[49m\u001b[43m,\u001b[49m\n\u001b[1;32m    929\u001b[0m \u001b[43m                       \u001b[49m\u001b[43mgalaxy\u001b[49m\u001b[43m,\u001b[49m\n\u001b[1;32m    930\u001b[0m \u001b[43m                       \u001b[49m\u001b[43mnoise\u001b[49m\u001b[43m,\u001b[49m\n\u001b[1;32m    931\u001b[0m \u001b[43m                       \u001b[49m\u001b[43mz\u001b[49m\u001b[43m,\u001b[49m\n\u001b[1;32m    932\u001b[0m \u001b[43m                       \u001b[49m\u001b[43mcosmology\u001b[49m\u001b[43m,\u001b[49m\n\u001b[1;32m    933\u001b[0m \u001b[43m                       \u001b[49m\u001b[43mfit_reg\u001b[49m\u001b[43m,\u001b[49m\n\u001b[1;32m    934\u001b[0m \u001b[43m                       \u001b[49m\u001b[43muser_lines\u001b[49m\u001b[43m,\u001b[49m\n\u001b[1;32m    935\u001b[0m \u001b[43m                       \u001b[49m\u001b[43muser_constraints\u001b[49m\u001b[43m,\u001b[49m\n\u001b[1;32m    936\u001b[0m \u001b[43m                       \u001b[49m\u001b[43mcombined_lines\u001b[49m\u001b[43m,\u001b[49m\n\u001b[1;32m    937\u001b[0m \u001b[43m                       \u001b[49m\u001b[43mtest_options\u001b[49m\u001b[43m,\u001b[49m\n\u001b[1;32m    938\u001b[0m \u001b[43m                       \u001b[49m\u001b[43mcomp_options\u001b[49m\u001b[43m,\u001b[49m\n\u001b[1;32m    939\u001b[0m \u001b[43m                       \u001b[49m\u001b[43mnarrow_options\u001b[49m\u001b[43m,\u001b[49m\n\u001b[1;32m    940\u001b[0m \u001b[43m                       \u001b[49m\u001b[43mbroad_options\u001b[49m\u001b[43m,\u001b[49m\n\u001b[1;32m    941\u001b[0m \u001b[43m                       \u001b[49m\u001b[43mabsorp_options\u001b[49m\u001b[43m,\u001b[49m\n\u001b[1;32m    942\u001b[0m \u001b[43m                       \u001b[49m\u001b[43mlosvd_options\u001b[49m\u001b[43m,\u001b[49m\n\u001b[1;32m    943\u001b[0m \u001b[43m                       \u001b[49m\u001b[43mhost_options\u001b[49m\u001b[43m,\u001b[49m\n\u001b[1;32m    944\u001b[0m \u001b[43m                       \u001b[49m\u001b[43mpower_options\u001b[49m\u001b[43m,\u001b[49m\n\u001b[1;32m    945\u001b[0m \u001b[43m                       \u001b[49m\u001b[43mpoly_options\u001b[49m\u001b[43m,\u001b[49m\n\u001b[1;32m    946\u001b[0m \u001b[43m                       \u001b[49m\u001b[43mopt_feii_options\u001b[49m\u001b[43m,\u001b[49m\n\u001b[1;32m    947\u001b[0m \u001b[43m                       \u001b[49m\u001b[43muv_iron_options\u001b[49m\u001b[43m,\u001b[49m\n\u001b[1;32m    948\u001b[0m \u001b[43m                       \u001b[49m\u001b[43mbalmer_options\u001b[49m\u001b[43m,\u001b[49m\n\u001b[1;32m    949\u001b[0m \u001b[43m                       \u001b[49m\u001b[43moutflow_test_options\u001b[49m\u001b[43m,\u001b[49m\n\u001b[1;32m    950\u001b[0m \u001b[43m                       \u001b[49m\u001b[43mhost_template\u001b[49m\u001b[43m,\u001b[49m\n\u001b[1;32m    951\u001b[0m \u001b[43m                       \u001b[49m\u001b[43mopt_feii_templates\u001b[49m\u001b[43m,\u001b[49m\n\u001b[1;32m    952\u001b[0m \u001b[43m                       \u001b[49m\u001b[43muv_iron_template\u001b[49m\u001b[43m,\u001b[49m\n\u001b[1;32m    953\u001b[0m \u001b[43m                       \u001b[49m\u001b[43mbalmer_template\u001b[49m\u001b[43m,\u001b[49m\n\u001b[1;32m    954\u001b[0m \u001b[43m                       \u001b[49m\u001b[43mstel_templates\u001b[49m\u001b[43m,\u001b[49m\n\u001b[1;32m    955\u001b[0m \u001b[43m                       \u001b[49m\u001b[43mblob_pars\u001b[49m\u001b[43m,\u001b[49m\n\u001b[1;32m    956\u001b[0m \u001b[43m                       \u001b[49m\u001b[43mdisp_res\u001b[49m\u001b[43m,\u001b[49m\n\u001b[1;32m    957\u001b[0m \u001b[43m                       \u001b[49m\u001b[43mfit_mask\u001b[49m\u001b[43m,\u001b[49m\n\u001b[1;32m    958\u001b[0m \u001b[43m                       \u001b[49m\u001b[43mvelscale\u001b[49m\u001b[43m,\u001b[49m\n\u001b[1;32m    959\u001b[0m \u001b[43m                       \u001b[49m\u001b[43mflux_norm\u001b[49m\u001b[43m,\u001b[49m\n\u001b[1;32m    960\u001b[0m \u001b[43m                       \u001b[49m\u001b[43mrun_dir\u001b[49m\u001b[43m,\u001b[49m\n\u001b[1;32m    961\u001b[0m \u001b[43m                       \u001b[49m\u001b[43mfit_type\u001b[49m\u001b[38;5;241;43m=\u001b[39;49m\u001b[38;5;124;43m'\u001b[39;49m\u001b[38;5;124;43minit\u001b[39;49m\u001b[38;5;124;43m'\u001b[39;49m\u001b[43m,\u001b[49m\n\u001b[1;32m    962\u001b[0m \u001b[43m                       \u001b[49m\u001b[43mfit_stat\u001b[49m\u001b[38;5;241;43m=\u001b[39;49m\u001b[43mfit_stat\u001b[49m\u001b[43m,\u001b[49m\n\u001b[1;32m    963\u001b[0m \u001b[43m                       \u001b[49m\u001b[43moutput_model\u001b[49m\u001b[38;5;241;43m=\u001b[39;49m\u001b[38;5;28;43;01mFalse\u001b[39;49;00m\u001b[43m,\u001b[49m\n\u001b[1;32m    964\u001b[0m \u001b[43m                       \u001b[49m\u001b[43mtest_outflows\u001b[49m\u001b[38;5;241;43m=\u001b[39;49m\u001b[38;5;28;43;01mFalse\u001b[39;49;00m\u001b[43m,\u001b[49m\n\u001b[1;32m    965\u001b[0m \u001b[43m                       \u001b[49m\u001b[43mn_basinhop\u001b[49m\u001b[38;5;241;43m=\u001b[39;49m\u001b[43mn_basinhop\u001b[49m\u001b[43m,\u001b[49m\n\u001b[1;32m    966\u001b[0m \u001b[43m                       \u001b[49m\u001b[43mmax_like_niter\u001b[49m\u001b[38;5;241;43m=\u001b[39;49m\u001b[43mmax_like_niter\u001b[49m\u001b[43m,\u001b[49m\n\u001b[1;32m    967\u001b[0m \u001b[43m                       \u001b[49m\u001b[43mverbose\u001b[49m\u001b[38;5;241;43m=\u001b[39;49m\u001b[43mverbose\u001b[49m\u001b[43m,\u001b[49m\n\u001b[1;32m    968\u001b[0m \u001b[43m                       \u001b[49m\u001b[43mbinnum\u001b[49m\u001b[38;5;241;43m=\u001b[39;49m\u001b[43mbinnum\u001b[49m\u001b[43m,\u001b[49m\n\u001b[1;32m    969\u001b[0m \u001b[43m                       \u001b[49m\u001b[43mspaxelx\u001b[49m\u001b[38;5;241;43m=\u001b[39;49m\u001b[43mspaxelx\u001b[49m\u001b[43m,\u001b[49m\n\u001b[1;32m    970\u001b[0m \u001b[43m                       \u001b[49m\u001b[43mspaxely\u001b[49m\u001b[38;5;241;43m=\u001b[39;49m\u001b[43mspaxely\u001b[49m\u001b[43m)\u001b[49m\n\u001b[1;32m    971\u001b[0m \u001b[38;5;66;03m# Exit BADASS\u001b[39;00m\n\u001b[1;32m    972\u001b[0m \u001b[38;5;28mprint\u001b[39m(\u001b[38;5;124m'\u001b[39m\u001b[38;5;124m - Configuration testing complete for \u001b[39m\u001b[38;5;132;01m%s\u001b[39;00m\u001b[38;5;124m! \u001b[39m\u001b[38;5;130;01m\\n\u001b[39;00m\u001b[38;5;124m'\u001b[39m \u001b[38;5;241m%\u001b[39m fits_file\u001b[38;5;241m.\u001b[39mparent\u001b[38;5;241m.\u001b[39mname)\n",
      "File \u001b[0;32m~/github_projects/BADASS3/badass.py:5472\u001b[0m, in \u001b[0;36mconfig_test\u001b[0;34m(param_dict, line_list, combined_line_list, soft_cons, ncomp_dict, lam_gal, galaxy, noise, z, cosmology, fit_reg, user_lines, user_constraints, combined_lines, test_options, comp_options, narrow_options, broad_options, absorp_options, losvd_options, host_options, power_options, poly_options, opt_feii_options, uv_iron_options, balmer_options, outflow_test_options, host_template, opt_feii_templates, uv_iron_template, balmer_template, stel_templates, blob_pars, disp_res, fit_mask, velscale, flux_norm, run_dir, fit_type, fit_stat, output_model, test_outflows, n_basinhop, max_like_niter, verbose, binnum, spaxelx, spaxely)\u001b[0m\n\u001b[1;32m   5470\u001b[0m npar \u001b[38;5;241m=\u001b[39m \u001b[38;5;28mlen\u001b[39m(_param_dict)\n\u001b[1;32m   5471\u001b[0m fit_res_dict[\u001b[38;5;124m\"\u001b[39m\u001b[38;5;124mCONFIG_\u001b[39m\u001b[38;5;132;01m%d\u001b[39;00m\u001b[38;5;124m\"\u001b[39m \u001b[38;5;241m%\u001b[39m (i\u001b[38;5;241m+\u001b[39m\u001b[38;5;241m1\u001b[39m)] \u001b[38;5;241m=\u001b[39m {\u001b[38;5;124m\"\u001b[39m\u001b[38;5;124mmcpars\u001b[39m\u001b[38;5;124m\"\u001b[39m:copy\u001b[38;5;241m.\u001b[39mdeepcopy(mcpars),\u001b[38;5;124m\"\u001b[39m\u001b[38;5;124mmccomps\u001b[39m\u001b[38;5;124m\"\u001b[39m:copy\u001b[38;5;241m.\u001b[39mdeepcopy(mccomps),\u001b[38;5;124m\"\u001b[39m\u001b[38;5;124mmcLL\u001b[39m\u001b[38;5;124m\"\u001b[39m:copy\u001b[38;5;241m.\u001b[39mdeepcopy(mcLL),\u001b[38;5;124m\"\u001b[39m\u001b[38;5;124mline_list\u001b[39m\u001b[38;5;124m\"\u001b[39m:copy\u001b[38;5;241m.\u001b[39mdeepcopy(user_line_list),\u001b[38;5;124m\"\u001b[39m\u001b[38;5;124mdof\u001b[39m\u001b[38;5;124m\"\u001b[39m:copy\u001b[38;5;241m.\u001b[39mdeepcopy(dof),\u001b[38;5;124m\"\u001b[39m\u001b[38;5;124mnpar\u001b[39m\u001b[38;5;124m\"\u001b[39m:copy\u001b[38;5;241m.\u001b[39mdeepcopy(npar)}\n\u001b[0;32m-> 5472\u001b[0m \u001b[43mtest_results\u001b[49m\u001b[43m[\u001b[49m\u001b[38;5;124;43m\"\u001b[39;49m\u001b[38;5;124;43mNPAR\u001b[39;49m\u001b[38;5;124;43m\"\u001b[39;49m\u001b[43m]\u001b[49m\u001b[38;5;241;43m.\u001b[39;49m\u001b[43mappen\u001b[49m(npar)\n\u001b[1;32m   5473\u001b[0m test_results[\u001b[38;5;124m\"\u001b[39m\u001b[38;5;124mDOF\u001b[39m\u001b[38;5;124m\"\u001b[39m]\u001b[38;5;241m.\u001b[39mappen(dof)\n\u001b[1;32m   5474\u001b[0m \u001b[38;5;66;03m# Now that both A and B have been fit, we can generate statistics from badass_test_suite functions\u001b[39;00m\n\u001b[1;32m   5475\u001b[0m \u001b[38;5;66;03m# We evaluate over the entire test range for each line\u001b[39;00m\n\u001b[1;32m   5476\u001b[0m \u001b[38;5;66;03m# storage arrays for residuals in [OIII] test region\u001b[39;00m\n",
      "\u001b[0;31mAttributeError\u001b[0m: 'list' object has no attribute 'appen'"
     ]
    }
   ],
   "source": [
    "import numpy as np\n",
    "import importlib\n",
    "importlib.reload(badass)\n",
    "importlib.reload(badass_config_options)\n",
    "if 1:\n",
    "# for i in range(1):\n",
    "#     np.random.seed()\n",
    "#     print(\"\\n---------------------------------------------------------\")\n",
    "#     print(\" Begin Test %d of %d\" % (i+1,10))\n",
    "#     print(\"---------------------------------------------------------\")\n",
    "    \n",
    "    # Call the main function in BADASS\n",
    "    badass.run_BADASS(pathlib.Path(file), \n",
    "                      options_file = options_file,\n",
    "                     )\n",
    "        #"
   ]
  },
  {
   "cell_type": "code",
   "execution_count": null,
   "metadata": {},
   "outputs": [],
   "source": []
  },
  {
   "cell_type": "code",
   "execution_count": null,
   "metadata": {},
   "outputs": [],
   "source": []
  }
 ],
 "metadata": {
  "kernelspec": {
   "display_name": "Python 3 (ipykernel)",
   "language": "python",
   "name": "python3"
  },
  "language_info": {
   "codemirror_mode": {
    "name": "ipython",
    "version": 3
   },
   "file_extension": ".py",
   "mimetype": "text/x-python",
   "name": "python",
   "nbconvert_exporter": "python",
   "pygments_lexer": "ipython3",
   "version": "3.10.10"
  }
 },
 "nbformat": 4,
 "nbformat_minor": 4
}
