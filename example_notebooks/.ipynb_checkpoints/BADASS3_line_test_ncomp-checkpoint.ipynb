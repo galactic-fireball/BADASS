{
 "cells": [
  {
   "cell_type": "markdown",
   "metadata": {
    "tags": []
   },
   "source": [
    "## Bayesian AGN Decomposition Analysis for SDSS Spectra (BADASS)\n",
    "### Single Spectrum Line Test Example\n",
    "\n",
    "####  Remington O. Sexton$^{1}$, Sara M. Doan$^{2}$, William Matzko$^{2}$ Michael A. Reefe$^{2}$, \n",
    "$^{1}$United States Naval Observatory, $^{2}$George Mason University\n"
   ]
  },
  {
   "cell_type": "code",
   "execution_count": 7,
   "metadata": {
    "tags": []
   },
   "outputs": [
    {
     "data": {
      "text/html": [
       "<style>.container { width:85% !important; }</style>"
      ],
      "text/plain": [
       "<IPython.core.display.HTML object>"
      ]
     },
     "metadata": {},
     "output_type": "display_data"
    }
   ],
   "source": [
    "import glob\n",
    "import time\n",
    "import natsort\n",
    "from IPython.display import clear_output\n",
    "import os\n",
    "import sys\n",
    "import psutil\n",
    "import pathlib\n",
    "import natsort\n",
    "# Import BADASS here\n",
    "BADASS_DIR = pathlib.Path(os.getcwd()).resolve().parent\n",
    "sys.path.insert(1,str(BADASS_DIR))\n",
    "import badass as badass\n",
    "import badass_check_input\n",
    "import badass_ncomp_options\n",
    "\n",
    "from IPython.display import display, HTML\n",
    "display(HTML(\"<style>.container { width:85% !important; }</style>\"))"
   ]
  },
  {
   "cell_type": "markdown",
   "metadata": {},
   "source": [
    "### BADASS Options"
   ]
  },
  {
   "cell_type": "code",
   "execution_count": 2,
   "metadata": {
    "tags": []
   },
   "outputs": [
    {
     "name": "stdout",
     "output_type": "stream",
     "text": [
      "\n",
      " Options file badass_ncomp_options.py found.\n",
      "\n"
     ]
    }
   ],
   "source": [
    "options_file = \"badass_ncomp_options.py\"\n",
    "\n",
    "if os.path.exists(options_file):\n",
    "    print(\"\\n Options file %s found.\\n\" % (options_file))"
   ]
  },
  {
   "cell_type": "markdown",
   "metadata": {},
   "source": [
    "### Run BADASS on a single spectrum\n",
    "\n",
    "The following is shows how to fit single SDSS spectra."
   ]
  },
  {
   "cell_type": "markdown",
   "metadata": {},
   "source": [
    "#### Directory Structure"
   ]
  },
  {
   "cell_type": "code",
   "execution_count": 3,
   "metadata": {
    "tags": []
   },
   "outputs": [
    {
     "name": "stdout",
     "output_type": "stream",
     "text": [
      "25\n",
      "../example_spectra/2-test\n"
     ]
    }
   ],
   "source": [
    "nobj = 2 # Object in the spec_dir list\n",
    "########################## Directory Structure #################################\n",
    "spec_dir = '../example_spectra/' # folder with spectra in it\n",
    "# Get full list of spectrum folders; these will be the working directories\n",
    "spec_loc = natsort.natsorted( glob.glob(spec_dir+'*') )[nobj]\n",
    "\n",
    "################################################################################\n",
    "print(len(spec_loc))\n",
    "print(spec_loc)\n"
   ]
  },
  {
   "cell_type": "markdown",
   "metadata": {},
   "source": [
    "#### Choose Spectrum "
   ]
  },
  {
   "cell_type": "code",
   "execution_count": 4,
   "metadata": {
    "tags": []
   },
   "outputs": [
    {
     "name": "stdout",
     "output_type": "stream",
     "text": [
      "../example_spectra/2-test/spec-2756-54508-0579.fits\n"
     ]
    }
   ],
   "source": [
    "file = glob.glob(spec_loc+'/*.fits')[0] # Get name of FITS spectra file\n",
    "print(file)"
   ]
  },
  {
   "cell_type": "markdown",
   "metadata": {},
   "source": [
    "#### Run IRSA Dust Query\n",
    "To correct for Galactic extinction.  This only needs to be done once so that the data is stored locally."
   ]
  },
  {
   "cell_type": "code",
   "execution_count": 5,
   "metadata": {},
   "outputs": [
    {
     "name": "stdout",
     "output_type": "stream",
     "text": [
      "\n",
      " Fetching IRSA Dust for spectra...\n",
      "\n",
      " Done fetching IRSA dust!\t\n",
      "\n"
     ]
    }
   ],
   "source": [
    "badass_check_input.fetch_IRSA_dust(spec_loc)"
   ]
  },
  {
   "cell_type": "markdown",
   "metadata": {},
   "source": [
    "#### Run "
   ]
  },
  {
   "cell_type": "code",
   "execution_count": 6,
   "metadata": {},
   "outputs": [
    {
     "ename": "NameError",
     "evalue": "name 'badass_ncomp_options' is not defined",
     "output_type": "error",
     "traceback": [
      "\u001b[0;31m---------------------------------------------------------------------------\u001b[0m",
      "\u001b[0;31mNameError\u001b[0m                                 Traceback (most recent call last)",
      "Cell \u001b[0;32mIn[6], line 4\u001b[0m\n\u001b[1;32m      2\u001b[0m \u001b[38;5;28;01mimport\u001b[39;00m \u001b[38;5;21;01mimportlib\u001b[39;00m\n\u001b[1;32m      3\u001b[0m importlib\u001b[38;5;241m.\u001b[39mreload(badass)\n\u001b[0;32m----> 4\u001b[0m importlib\u001b[38;5;241m.\u001b[39mreload(\u001b[43mbadass_ncomp_options\u001b[49m)\n\u001b[1;32m      5\u001b[0m \u001b[38;5;28;01mif\u001b[39;00m \u001b[38;5;241m1\u001b[39m:\n\u001b[1;32m      6\u001b[0m \u001b[38;5;66;03m# for i in range(1):\u001b[39;00m\n\u001b[1;32m      7\u001b[0m \u001b[38;5;66;03m#     np.random.seed()\u001b[39;00m\n\u001b[0;32m   (...)\u001b[0m\n\u001b[1;32m     11\u001b[0m     \n\u001b[1;32m     12\u001b[0m     \u001b[38;5;66;03m# Call the main function in BADASS\u001b[39;00m\n\u001b[1;32m     13\u001b[0m     badass\u001b[38;5;241m.\u001b[39mrun_BADASS(pathlib\u001b[38;5;241m.\u001b[39mPath(file),\n\u001b[1;32m     14\u001b[0m                       options_file \u001b[38;5;241m=\u001b[39m options_file,\n\u001b[1;32m     15\u001b[0m                      )\n",
      "\u001b[0;31mNameError\u001b[0m: name 'badass_ncomp_options' is not defined"
     ]
    }
   ],
   "source": [
    "import numpy as np\n",
    "import importlib\n",
    "importlib.reload(badass)\n",
    "importlib.reload(badass_ncomp_options)\n",
    "if 1:\n",
    "# for i in range(1):\n",
    "#     np.random.seed()\n",
    "#     print(\"\\n---------------------------------------------------------\")\n",
    "#     print(\" Begin Test %d of %d\" % (i+1,10))\n",
    "#     print(\"---------------------------------------------------------\")\n",
    "    \n",
    "    # Call the main function in BADASS\n",
    "    badass.run_BADASS(pathlib.Path(file),\n",
    "                      options_file = options_file,\n",
    "                     )\n",
    "        #"
   ]
  },
  {
   "cell_type": "code",
   "execution_count": null,
   "metadata": {},
   "outputs": [],
   "source": []
  }
 ],
 "metadata": {
  "kernelspec": {
   "display_name": "Python 3 (ipykernel)",
   "language": "python",
   "name": "python3"
  },
  "language_info": {
   "codemirror_mode": {
    "name": "ipython",
    "version": 3
   },
   "file_extension": ".py",
   "mimetype": "text/x-python",
   "name": "python",
   "nbconvert_exporter": "python",
   "pygments_lexer": "ipython3",
   "version": "3.10.10"
  }
 },
 "nbformat": 4,
 "nbformat_minor": 4
}
