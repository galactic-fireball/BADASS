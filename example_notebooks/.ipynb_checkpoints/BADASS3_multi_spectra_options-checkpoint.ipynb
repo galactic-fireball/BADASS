{
 "cells": [
  {
   "cell_type": "markdown",
   "metadata": {
    "tags": []
   },
   "source": [
    "## Bayesian AGN Decomposition Analysis for SDSS Spectra (BADASS)\n",
    "### Example: Multi Spectrum Fitting with Options File\n",
    "\n",
    "This notebook is a working example of how to fit multiple spectra with Python's multiprocessing with a user-input options file.  The options file contains all the fitting options, line lists, constraints, etc., that you would otherwise pass to the `run_BADASS()` function, except contained in a `.py` file.  This can be used to more-easily change fitting options without having to cut and paste into the notebook.\n",
    "\n",
    "####  Remington O. Sexton$^{1}$, Sara M. Doan$^{2}$, William Matzko$^{2}$ Michael A. Reefe$^{2}$, \n",
    "$^{1}$United States Naval Observatory, $^{2}$George Mason University\n"
   ]
  },
  {
   "cell_type": "code",
   "execution_count": null,
   "metadata": {},
   "outputs": [],
   "source": [
    "import glob\n",
    "import time\n",
    "import natsort\n",
    "from IPython.display import clear_output\n",
    "import os\n",
    "import sys\n",
    "import psutil\n",
    "import pathlib\n",
    "import natsort\n",
    "# Import BADASS here\n",
    "BADASS_DIR = pathlib.Path(os.getcwd()).resolve().parent\n",
    "sys.path.insert(1,str(BADASS_DIR))\n",
    "import badass as badass\n",
    "import badass_check_input\n",
    "\n",
    "from IPython.display import display, HTML\n",
    "display(HTML(\"<style>.container { width:85% !important; }</style>\"))"
   ]
  },
  {
   "cell_type": "markdown",
   "metadata": {},
   "source": [
    "### BADASS Options"
   ]
  },
  {
   "cell_type": "code",
   "execution_count": null,
   "metadata": {},
   "outputs": [],
   "source": [
    "# A .py file containing options\n",
    "options_file = \"BADASS_options.py\"\n",
    "if os.path.exists(options_file): print(\"\\n Options file found!\")"
   ]
  },
  {
   "cell_type": "markdown",
   "metadata": {},
   "source": [
    "#### Directory Structure"
   ]
  },
  {
   "cell_type": "code",
   "execution_count": null,
   "metadata": {},
   "outputs": [],
   "source": [
    "spec_dir = BADASS_DIR.joinpath(\"example_spectra\") # folder with spectra in it\n",
    "print(spec_dir)"
   ]
  },
  {
   "cell_type": "markdown",
   "metadata": {},
   "source": [
    "#### Multiprocessing "
   ]
  },
  {
   "cell_type": "code",
   "execution_count": null,
   "metadata": {},
   "outputs": [],
   "source": [
    "# Get number of cpus; \n",
    "# nprocesses should not exceed ncpu\n",
    "ncpu = os.cpu_count()\n",
    "print(' Number of CPUs available = %d' % (ncpu) )\n",
    "# nprocesses is the number of spectra we want to fit simultaneously\n",
    "# you should limit this to ncpu; below we choose half the number of \n",
    "# cpus available \n",
    "nprocesses = 4\n",
    "print(' Number of BADASS processes = %d' % nprocesses)\n",
    "\n",
    "# only fit the first four\n",
    "nobj = (0, 4)"
   ]
  },
  {
   "cell_type": "markdown",
   "metadata": {},
   "source": [
    "#### Run"
   ]
  },
  {
   "cell_type": "code",
   "execution_count": null,
   "metadata": {
    "scrolled": true
   },
   "outputs": [],
   "source": [
    "if __name__ == '__main__':\n",
    "    badass.run_BADASS(\n",
    "        spec_dir,\n",
    "        nobj             = nobj,\n",
    "        nprocesses       = nprocesses,\n",
    "        options_file     = options_file,\n",
    "        sdss_spec        = True,\n",
    "        )\n",
    "    "
   ]
  },
  {
   "cell_type": "code",
   "execution_count": null,
   "metadata": {},
   "outputs": [],
   "source": []
  }
 ],
 "metadata": {
  "kernelspec": {
   "display_name": "Python 3 (ipykernel)",
   "language": "python",
   "name": "python3"
  },
  "language_info": {
   "codemirror_mode": {
    "name": "ipython",
    "version": 3
   },
   "file_extension": ".py",
   "mimetype": "text/x-python",
   "name": "python",
   "nbconvert_exporter": "python",
   "pygments_lexer": "ipython3",
   "version": "3.10.10"
  }
 },
 "nbformat": 4,
 "nbformat_minor": 4
}
