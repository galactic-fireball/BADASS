{
 "cells": [
  {
   "cell_type": "markdown",
   "metadata": {
    "tags": []
   },
   "source": [
    "## Bayesian AGN Decomposition Analysis for SDSS Spectra (BADASS)\n",
    "### Single Spectrum Configuration Test Example\n",
    "\n",
    "This notebook shows how to perform configuration testing.  Configuration testing is different from line testing.  Line testing performs tests on individual lines, whereas configurations can be multiple different lines simultaenously.  As a result, configuration testing requires the user to explicitly define which lines to test and the order to test them in.  BADASS will *not* discriminate between simple and complex models, but instead performs the fits in the order the user supplies them, and then will choose the best one.  It is up to the user to order the configurations in increasing complexity if the user wishes to test in such a way similar to the line test.\n",
    "\n",
    "In this example, we showcase how the configuration test is best utilized, and where the line test would fail.  Here we determine the best configuration to fit to the superposition of broad and narrow lines for the H$\\alpha$/[NII] region.  The line test would fail in this regard because the line test cannot test broad and narrow lines simultaenously.\n",
    "\n",
    "\n",
    "####  Remington O. Sexton$^{1}$, Sara M. Doan$^{2}$, William Matzko$^{2}$ Michael A. Reefe$^{2}$, \n",
    "$^{1}$United States Naval Observatory, $^{2}$George Mason University\n"
   ]
  },
  {
   "cell_type": "code",
   "execution_count": null,
   "metadata": {
    "tags": []
   },
   "outputs": [],
   "source": [
    "import glob\n",
    "import time\n",
    "import natsort\n",
    "from IPython.display import clear_output\n",
    "import os\n",
    "import sys\n",
    "import psutil\n",
    "import pathlib\n",
    "import natsort\n",
    "# Import BADASS here\n",
    "BADASS_DIR = pathlib.Path(os.getcwd()).resolve().parent\n",
    "sys.path.insert(1,str(BADASS_DIR))\n",
    "import badass as badass\n",
    "import badass_check_input\n",
    "import badass_ncomp_options\n",
    "\n",
    "from IPython.display import display, HTML\n",
    "display(HTML(\"<style>.container { width:85% !important; }</style>\"))"
   ]
  },
  {
   "cell_type": "markdown",
   "metadata": {},
   "source": [
    "### BADASS Options"
   ]
  },
  {
   "cell_type": "code",
   "execution_count": null,
   "metadata": {
    "tags": []
   },
   "outputs": [],
   "source": [
    "options_file = \"badass_config_options.py\"\n",
    "\n",
    "if os.path.exists(options_file):\n",
    "    print(\"\\n Options file %s found.\\n\" % (options_file))"
   ]
  },
  {
   "cell_type": "markdown",
   "metadata": {},
   "source": [
    "### Run BADASS on a single spectrum\n",
    "\n",
    "The following is shows how to fit single SDSS spectra."
   ]
  },
  {
   "cell_type": "markdown",
   "metadata": {},
   "source": [
    "#### Directory Structure"
   ]
  },
  {
   "cell_type": "code",
   "execution_count": null,
   "metadata": {
    "tags": []
   },
   "outputs": [],
   "source": [
    "nobj = 2 # Object in the spec_dir list\n",
    "########################## Directory Structure #################################\n",
    "spec_dir = '../example_spectra/' # folder with spectra in it\n",
    "# Get full list of spectrum folders; these will be the working directories\n",
    "spec_loc = natsort.natsorted( glob.glob(spec_dir+'*') )[nobj]\n",
    "\n",
    "################################################################################\n",
    "print(len(spec_loc))\n",
    "print(spec_loc)\n"
   ]
  },
  {
   "cell_type": "markdown",
   "metadata": {},
   "source": [
    "#### Choose Spectrum "
   ]
  },
  {
   "cell_type": "code",
   "execution_count": null,
   "metadata": {
    "tags": []
   },
   "outputs": [],
   "source": [
    "file = glob.glob(spec_loc+'/*.fits')[0] # Get name of FITS spectra file\n",
    "print(file)"
   ]
  },
  {
   "cell_type": "markdown",
   "metadata": {},
   "source": [
    "#### Run IRSA Dust Query\n",
    "To correct for Galactic extinction.  This only needs to be done once so that the data is stored locally."
   ]
  },
  {
   "cell_type": "code",
   "execution_count": null,
   "metadata": {},
   "outputs": [],
   "source": [
    "badass_check_input.fetch_IRSA_dust(spec_loc)"
   ]
  },
  {
   "cell_type": "markdown",
   "metadata": {},
   "source": [
    "#### Run "
   ]
  },
  {
   "cell_type": "code",
   "execution_count": null,
   "metadata": {},
   "outputs": [],
   "source": [
    "import numpy as np\n",
    "import importlib\n",
    "importlib.reload(badass)\n",
    "importlib.reload(badass_ncomp_options)\n",
    "if 1:\n",
    "# for i in range(1):\n",
    "#     np.random.seed()\n",
    "#     print(\"\\n---------------------------------------------------------\")\n",
    "#     print(\" Begin Test %d of %d\" % (i+1,10))\n",
    "#     print(\"---------------------------------------------------------\")\n",
    "    \n",
    "    # Call the main function in BADASS\n",
    "    badass.run_BADASS(pathlib.Path(file), \n",
    "                      options_file = options_file,\n",
    "                     )\n",
    "        #"
   ]
  },
  {
   "cell_type": "code",
   "execution_count": null,
   "metadata": {},
   "outputs": [],
   "source": []
  },
  {
   "cell_type": "code",
   "execution_count": null,
   "metadata": {},
   "outputs": [],
   "source": []
  }
 ],
 "metadata": {
  "kernelspec": {
   "display_name": "Python 3 (ipykernel)",
   "language": "python",
   "name": "python3"
  },
  "language_info": {
   "codemirror_mode": {
    "name": "ipython",
    "version": 3
   },
   "file_extension": ".py",
   "mimetype": "text/x-python",
   "name": "python",
   "nbconvert_exporter": "python",
   "pygments_lexer": "ipython3",
   "version": "3.10.10"
  }
 },
 "nbformat": 4,
 "nbformat_minor": 4
}
