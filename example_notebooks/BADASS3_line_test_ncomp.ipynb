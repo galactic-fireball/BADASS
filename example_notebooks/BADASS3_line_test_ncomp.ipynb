{
 "cells": [
  {
   "cell_type": "markdown",
   "metadata": {
    "tags": []
   },
   "source": [
    "## Bayesian AGN Decomposition Analysis for SDSS Spectra (BADASS)\n",
    "### Single Spectrum Line Test Example\n",
    "\n",
    "####  Remington O. Sexton$^{1}$, Sara M. Doan$^{2}$, William Matzko$^{2}$ Michael A. Reefe$^{2}$, \n",
    "$^{1}$United States Naval Observatory, $^{2}$George Mason University\n"
   ]
  },
  {
   "cell_type": "code",
   "execution_count": 1,
   "metadata": {
    "tags": []
   },
   "outputs": [
    {
     "data": {
      "text/html": [
       "<style>.container { width:85% !important; }</style>"
      ],
      "text/plain": [
       "<IPython.core.display.HTML object>"
      ]
     },
     "metadata": {},
     "output_type": "display_data"
    }
   ],
   "source": [
    "import glob\n",
    "import time\n",
    "import natsort\n",
    "from IPython.display import clear_output\n",
    "import os\n",
    "import sys\n",
    "import psutil\n",
    "import pathlib\n",
    "import natsort\n",
    "# Import BADASS here\n",
    "BADASS_DIR = pathlib.Path(os.getcwd()).resolve().parent\n",
    "sys.path.insert(1,str(BADASS_DIR))\n",
    "import badass as badass\n",
    "import badass_check_input\n",
    "import badass_ncomp_options\n",
    "\n",
    "from IPython.display import display, HTML\n",
    "display(HTML(\"<style>.container { width:85% !important; }</style>\"))"
   ]
  },
  {
   "cell_type": "markdown",
   "metadata": {},
   "source": [
    "### BADASS Options"
   ]
  },
  {
   "cell_type": "code",
   "execution_count": 2,
   "metadata": {
    "tags": []
   },
   "outputs": [
    {
     "name": "stdout",
     "output_type": "stream",
     "text": [
      "\n",
      " Options file badass_ncomp_options.py found.\n",
      "\n"
     ]
    }
   ],
   "source": [
    "options_file = \"badass_ncomp_options.py\"\n",
    "\n",
    "if os.path.exists(options_file):\n",
    "    print(\"\\n Options file %s found.\\n\" % (options_file))"
   ]
  },
  {
   "cell_type": "markdown",
   "metadata": {},
   "source": [
    "### Run BADASS on a single spectrum\n",
    "\n",
    "The following is shows how to fit single SDSS spectra."
   ]
  },
  {
   "cell_type": "markdown",
   "metadata": {},
   "source": [
    "#### Directory Structure"
   ]
  },
  {
   "cell_type": "code",
   "execution_count": 3,
   "metadata": {
    "tags": []
   },
   "outputs": [
    {
     "name": "stdout",
     "output_type": "stream",
     "text": [
      "25\n",
      "../example_spectra/2-test\n"
     ]
    }
   ],
   "source": [
    "nobj = 2 # Object in the spec_dir list\n",
    "########################## Directory Structure #################################\n",
    "spec_dir = '../example_spectra/' # folder with spectra in it\n",
    "# Get full list of spectrum folders; these will be the working directories\n",
    "spec_loc = natsort.natsorted( glob.glob(spec_dir+'*') )[nobj]\n",
    "\n",
    "################################################################################\n",
    "print(len(spec_loc))\n",
    "print(spec_loc)\n"
   ]
  },
  {
   "cell_type": "markdown",
   "metadata": {},
   "source": [
    "#### Choose Spectrum "
   ]
  },
  {
   "cell_type": "code",
   "execution_count": 4,
   "metadata": {
    "tags": []
   },
   "outputs": [
    {
     "name": "stdout",
     "output_type": "stream",
     "text": [
      "../example_spectra/2-test/spec-2756-54508-0579.fits\n"
     ]
    }
   ],
   "source": [
    "file = glob.glob(spec_loc+'/*.fits')[0] # Get name of FITS spectra file\n",
    "print(file)"
   ]
  },
  {
   "cell_type": "markdown",
   "metadata": {},
   "source": [
    "#### Run IRSA Dust Query\n",
    "To correct for Galactic extinction.  This only needs to be done once so that the data is stored locally."
   ]
  },
  {
   "cell_type": "code",
   "execution_count": 5,
   "metadata": {},
   "outputs": [
    {
     "name": "stdout",
     "output_type": "stream",
     "text": [
      "\n",
      " Fetching IRSA Dust for spectra...\n",
      "\n",
      " Done fetching IRSA dust!\t\n",
      "\n"
     ]
    }
   ],
   "source": [
    "badass_check_input.fetch_IRSA_dust(spec_loc)"
   ]
  },
  {
   "cell_type": "markdown",
   "metadata": {},
   "source": [
    "#### Run "
   ]
  },
  {
   "cell_type": "code",
   "execution_count": 6,
   "metadata": {},
   "outputs": [
    {
     "name": "stdout",
     "output_type": "stream",
     "text": [
      "Start process memory: 0.27334246                    \n",
      " Storing MCMC_output in ../example_spectra/2-test/MCMC_output_3/\n",
      "\n",
      " > Starting fit for 2-test\n",
      "\n",
      " Input fitting region exceeds available wavelength range.  BADASS will adjust your fitting range automatically...\n",
      "\t\t- Input fitting range: (4400, 5500)\n",
      "\t\t- Available wavelength range: (2218, 5354)\n",
      "\t\t- New fitting region is (4400, 5355). \n",
      "\n",
      "\n",
      "\n",
      "-----------------------------------------------------------\n",
      " file:                        spec-2756-54508-0579.fits     \n",
      " SDSS redshift:               0.71967                       \n",
      " fitting region:              (4400,5355) [A]               \n",
      " velocity scale:              69.15 [km/s/pixel]            \n",
      " Galactic E(B-V):             0.032                         \n",
      " Flux Normalization:          1.0e-17                       \n",
      "-----------------------------------------------------------\n",
      "\t- Adding parameter for unexplained variance for reduced Chi-squared.\n",
      "\t- Fitting a SSP host-galaxy template.\n",
      "\t- Fitting additive legendre polynomial component.\n",
      "\t- Fitting Simple AGN power-law continuum.\n",
      "None\n"
     ]
    },
    {
     "ename": "SystemExit",
     "evalue": "",
     "output_type": "error",
     "traceback": [
      "An exception has occurred, use %tb to see the full traceback.\n",
      "\u001b[0;31mSystemExit\u001b[0m\n"
     ]
    }
   ],
   "source": [
    "import numpy as np\n",
    "import importlib\n",
    "importlib.reload(badass)\n",
    "importlib.reload(badass_ncomp_options)\n",
    "if 1:\n",
    "# for i in range(1):\n",
    "#     np.random.seed()\n",
    "#     print(\"\\n---------------------------------------------------------\")\n",
    "#     print(\" Begin Test %d of %d\" % (i+1,10))\n",
    "#     print(\"---------------------------------------------------------\")\n",
    "    \n",
    "    # Call the main function in BADASS\n",
    "    badass.run_BADASS(pathlib.Path(file),\n",
    "                      options_file = options_file,\n",
    "                     )\n",
    "        #"
   ]
  },
  {
   "cell_type": "code",
   "execution_count": null,
   "metadata": {},
   "outputs": [],
   "source": []
  },
  {
   "cell_type": "code",
   "execution_count": null,
   "metadata": {},
   "outputs": [],
   "source": []
  }
 ],
 "metadata": {
  "kernelspec": {
   "display_name": "Python 3 (ipykernel)",
   "language": "python",
   "name": "python3"
  },
  "language_info": {
   "codemirror_mode": {
    "name": "ipython",
    "version": 3
   },
   "file_extension": ".py",
   "mimetype": "text/x-python",
   "name": "python",
   "nbconvert_exporter": "python",
   "pygments_lexer": "ipython3",
   "version": "3.10.10"
  }
 },
 "nbformat": 4,
 "nbformat_minor": 4
}
