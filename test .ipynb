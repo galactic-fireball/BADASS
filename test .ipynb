{
 "cells": [
  {
   "cell_type": "code",
   "execution_count": 1,
   "id": "5b0db03d",
   "metadata": {},
   "outputs": [],
   "source": [
    "import numpy as np"
   ]
  },
  {
   "cell_type": "code",
   "execution_count": 4,
   "id": "bde9812e",
   "metadata": {},
   "outputs": [
    {
     "name": "stdout",
     "output_type": "stream",
     "text": [
      "[16 87 93 24 83 57 35 46 50 39]\n",
      "[88 35 73 64 59  0 86 37 28 53]\n",
      "[77 66  9 26 32 91 71 58 12 48]\n",
      "[27 39 42 55 85 63  6 18 60 25]\n",
      "[ 4 94 75  7 49  8 44 38 91 31]\n",
      "[27  7 78 97 94 15  8 55 67 31]\n",
      "[87 23 42 15 33 11 68 61 43 99]\n",
      "[18 62 84 86 25  0 90 34 85 61]\n",
      "[87 64 41 95 96 15 76 84 84 55]\n",
      "[50  5 76 68 70 32 30 47  4 75]\n"
     ]
    }
   ],
   "source": [
    "for i in range(10):\n",
    "    np.random.seed()\n",
    "    print(np.random.randint(0, 100, 10))\n"
   ]
  },
  {
   "cell_type": "code",
   "execution_count": null,
   "id": "700c0095",
   "metadata": {},
   "outputs": [],
   "source": []
  }
 ],
 "metadata": {
  "kernelspec": {
   "display_name": "Python 3 (ipykernel)",
   "language": "python",
   "name": "python3"
  },
  "language_info": {
   "codemirror_mode": {
    "name": "ipython",
    "version": 3
   },
   "file_extension": ".py",
   "mimetype": "text/x-python",
   "name": "python",
   "nbconvert_exporter": "python",
   "pygments_lexer": "ipython3",
   "version": "3.8.15"
  }
 },
 "nbformat": 4,
 "nbformat_minor": 5
}
